{
  "nbformat": 4,
  "nbformat_minor": 0,
  "metadata": {
    "colab": {
      "name": "triplet_loss_keras_no_distance_layer_64_64_1.ipynb",
      "version": "0.3.2",
      "provenance": [],
      "collapsed_sections": [],
      "include_colab_link": true
    },
    "kernelspec": {
      "display_name": "Python 3",
      "language": "python",
      "name": "python3"
    },
    "accelerator": "GPU"
  },
  "cells": [
    {
      "cell_type": "markdown",
      "metadata": {
        "id": "view-in-github",
        "colab_type": "text"
      },
      "source": [
        "[View in Colaboratory](https://colab.research.google.com/github/zeeshanhaider1007/MatchNet-with-Triplet-Loss/blob/master/triplet_loss_keras_no_distance_layer_64_64_1.ipynb)"
      ]
    },
    {
      "metadata": {
        "id": "j6uWOTX2eng9",
        "colab_type": "code",
        "colab": {
          "base_uri": "https://localhost:8080/",
          "height": 2327
        },
        "outputId": "fb4f44c1-ada6-4ee6-8e82-2112ea3e4196"
      },
      "cell_type": "code",
      "source": [
        "!apt-get install -y -qq software-properties-common python-software-properties module-init-tools\n",
        "!add-apt-repository -y ppa:alessandro-strada/ppa 2>&1 > /dev/null\n",
        "!apt-get update -qq 2>&1 > /dev/null\n",
        "!apt-get -y install -qq google-drive-ocamlfuse fuse"
      ],
      "execution_count": 1,
      "outputs": [
        {
          "output_type": "stream",
          "text": [
            "Preconfiguring packages ...\n",
            "Selecting previously unselected package cron.\n",
            "(Reading database ... 18396 files and directories currently installed.)\n",
            "Preparing to unpack .../00-cron_3.0pl1-128ubuntu5_amd64.deb ...\n",
            "Unpacking cron (3.0pl1-128ubuntu5) ...\n",
            "Selecting previously unselected package libapparmor1:amd64.\n",
            "Preparing to unpack .../01-libapparmor1_2.11.0-2ubuntu17.1_amd64.deb ...\n",
            "Unpacking libapparmor1:amd64 (2.11.0-2ubuntu17.1) ...\n",
            "Selecting previously unselected package libdbus-1-3:amd64.\n",
            "Preparing to unpack .../02-libdbus-1-3_1.10.22-1ubuntu1_amd64.deb ...\n",
            "Unpacking libdbus-1-3:amd64 (1.10.22-1ubuntu1) ...\n",
            "Selecting previously unselected package dbus.\n",
            "Preparing to unpack .../03-dbus_1.10.22-1ubuntu1_amd64.deb ...\n",
            "Unpacking dbus (1.10.22-1ubuntu1) ...\n",
            "Selecting previously unselected package dirmngr.\n",
            "Preparing to unpack .../04-dirmngr_2.1.15-1ubuntu8.1_amd64.deb ...\n",
            "Unpacking dirmngr (2.1.15-1ubuntu8.1) ...\n",
            "Selecting previously unselected package distro-info-data.\n",
            "Preparing to unpack .../05-distro-info-data_0.36ubuntu0.2_all.deb ...\n",
            "Unpacking distro-info-data (0.36ubuntu0.2) ...\n",
            "Selecting previously unselected package libkmod2:amd64.\n",
            "Preparing to unpack .../06-libkmod2_24-1ubuntu2_amd64.deb ...\n",
            "Unpacking libkmod2:amd64 (24-1ubuntu2) ...\n",
            "Selecting previously unselected package kmod.\n",
            "Preparing to unpack .../07-kmod_24-1ubuntu2_amd64.deb ...\n",
            "Unpacking kmod (24-1ubuntu2) ...\n",
            "Selecting previously unselected package lsb-release.\n",
            "Preparing to unpack .../08-lsb-release_9.20160110ubuntu5_all.deb ...\n",
            "Unpacking lsb-release (9.20160110ubuntu5) ...\n",
            "Selecting previously unselected package libgirepository-1.0-1:amd64.\n",
            "Preparing to unpack .../09-libgirepository-1.0-1_1.54.1-1_amd64.deb ...\n",
            "Unpacking libgirepository-1.0-1:amd64 (1.54.1-1) ...\n",
            "Selecting previously unselected package gir1.2-glib-2.0:amd64.\n",
            "Preparing to unpack .../10-gir1.2-glib-2.0_1.54.1-1_amd64.deb ...\n",
            "Unpacking gir1.2-glib-2.0:amd64 (1.54.1-1) ...\n",
            "Selecting previously unselected package iso-codes.\n",
            "Preparing to unpack .../11-iso-codes_3.75-1_all.deb ...\n",
            "Unpacking iso-codes (3.75-1) ...\n",
            "Selecting previously unselected package libdbus-glib-1-2:amd64.\n",
            "Preparing to unpack .../12-libdbus-glib-1-2_0.108-2_amd64.deb ...\n",
            "Unpacking libdbus-glib-1-2:amd64 (0.108-2) ...\n",
            "Selecting previously unselected package python-apt-common.\n",
            "Preparing to unpack .../13-python-apt-common_1.4.0~beta3build2_all.deb ...\n",
            "Unpacking python-apt-common (1.4.0~beta3build2) ...\n",
            "Selecting previously unselected package python3-apt.\n",
            "Preparing to unpack .../14-python3-apt_1.4.0~beta3build2_amd64.deb ...\n",
            "Unpacking python3-apt (1.4.0~beta3build2) ...\n",
            "Selecting previously unselected package python3-dbus.\n",
            "Preparing to unpack .../15-python3-dbus_1.2.4-1build3_amd64.deb ...\n",
            "Unpacking python3-dbus (1.2.4-1build3) ...\n",
            "Selecting previously unselected package python3-gi.\n",
            "Preparing to unpack .../16-python3-gi_3.24.1-2build1_amd64.deb ...\n",
            "Unpacking python3-gi (3.24.1-2build1) ...\n",
            "Selecting previously unselected package module-init-tools.\n",
            "Preparing to unpack .../17-module-init-tools_24-1ubuntu2_all.deb ...\n",
            "Unpacking module-init-tools (24-1ubuntu2) ...\n",
            "Selecting previously unselected package python-apt.\n",
            "Preparing to unpack .../18-python-apt_1.4.0~beta3build2_amd64.deb ...\n",
            "Unpacking python-apt (1.4.0~beta3build2) ...\n",
            "Selecting previously unselected package python-pycurl.\n",
            "Preparing to unpack .../19-python-pycurl_7.43.0-2build2_amd64.deb ...\n",
            "Unpacking python-pycurl (7.43.0-2build2) ...\n",
            "Selecting previously unselected package python-software-properties.\n",
            "Preparing to unpack .../20-python-software-properties_0.96.24.17_all.deb ...\n",
            "Unpacking python-software-properties (0.96.24.17) ...\n",
            "Selecting previously unselected package python3-software-properties.\n",
            "Preparing to unpack .../21-python3-software-properties_0.96.24.17_all.deb ...\n",
            "Unpacking python3-software-properties (0.96.24.17) ...\n",
            "Selecting previously unselected package software-properties-common.\n",
            "Preparing to unpack .../22-software-properties-common_0.96.24.17_all.deb ...\n",
            "Unpacking software-properties-common (0.96.24.17) ...\n",
            "Selecting previously unselected package unattended-upgrades.\n",
            "Preparing to unpack .../23-unattended-upgrades_0.98ubuntu1.1_all.deb ...\n",
            "Unpacking unattended-upgrades (0.98ubuntu1.1) ...\n",
            "Setting up python-apt-common (1.4.0~beta3build2) ...\n",
            "Setting up python3-apt (1.4.0~beta3build2) ...\n",
            "Setting up iso-codes (3.75-1) ...\n",
            "Setting up distro-info-data (0.36ubuntu0.2) ...\n",
            "Setting up python-pycurl (7.43.0-2build2) ...\n",
            "Setting up lsb-release (9.20160110ubuntu5) ...\n",
            "Setting up libgirepository-1.0-1:amd64 (1.54.1-1) ...\n"
          ],
          "name": "stdout"
        },
        {
          "output_type": "stream",
          "text": [
            "Setting up libkmod2:amd64 (24-1ubuntu2) ...\r\n",
            "Setting up gir1.2-glib-2.0:amd64 (1.54.1-1) ...\n",
            "Processing triggers for libc-bin (2.26-0ubuntu2.1) ...\n",
            "Setting up libapparmor1:amd64 (2.11.0-2ubuntu17.1) ...\n",
            "Setting up unattended-upgrades (0.98ubuntu1.1) ...\n",
            "\n",
            "Creating config file /etc/apt/apt.conf.d/20auto-upgrades with new version\n",
            "\n",
            "Creating config file /etc/apt/apt.conf.d/50unattended-upgrades with new version\n",
            "invoke-rc.d: could not determine current runlevel\n",
            "invoke-rc.d: policy-rc.d denied execution of start.\n",
            "Setting up dirmngr (2.1.15-1ubuntu8.1) ...\n",
            "Setting up cron (3.0pl1-128ubuntu5) ...\n",
            "Adding group `crontab' (GID 102) ...\n",
            "Done.\n",
            "update-rc.d: warning: start and stop actions are no longer supported; falling back to defaults\n",
            "update-rc.d: warning: stop runlevel arguments (1) do not match cron Default-Stop values (none)\n",
            "invoke-rc.d: could not determine current runlevel\n",
            "invoke-rc.d: policy-rc.d denied execution of start.\n",
            "Setting up libdbus-1-3:amd64 (1.10.22-1ubuntu1) ...\n",
            "Setting up kmod (24-1ubuntu2) ...\n",
            "Setting up libdbus-glib-1-2:amd64 (0.108-2) ...\n",
            "Setting up python3-gi (3.24.1-2build1) ...\n",
            "Setting up module-init-tools (24-1ubuntu2) ...\n",
            "Setting up python3-software-properties (0.96.24.17) ...\n",
            "Setting up dbus (1.10.22-1ubuntu1) ...\n",
            "Setting up python-apt (1.4.0~beta3build2) ...\n",
            "Setting up python3-dbus (1.2.4-1build3) ...\n",
            "Setting up python-software-properties (0.96.24.17) ...\n",
            "Setting up software-properties-common (0.96.24.17) ...\n",
            "Processing triggers for libc-bin (2.26-0ubuntu2.1) ...\n",
            "Processing triggers for dbus (1.10.22-1ubuntu1) ...\n",
            "gpg: keybox '/tmp/tmpahy1ibhx/pubring.gpg' created\n",
            "gpg: /tmp/tmpahy1ibhx/trustdb.gpg: trustdb created\n",
            "gpg: key AD5F235DF639B041: public key \"Launchpad PPA for Alessandro Strada\" imported\n",
            "gpg: Total number processed: 1\n",
            "gpg:               imported: 1\n",
            "Warning: apt-key output should not be parsed (stdout is not a terminal)\n",
            "Selecting previously unselected package libfuse2:amd64.\n",
            "(Reading database ... 19804 files and directories currently installed.)\n",
            "Preparing to unpack .../libfuse2_2.9.7-1ubuntu1_amd64.deb ...\n",
            "Unpacking libfuse2:amd64 (2.9.7-1ubuntu1) ...\n",
            "Selecting previously unselected package fuse.\n",
            "Preparing to unpack .../fuse_2.9.7-1ubuntu1_amd64.deb ...\n",
            "Unpacking fuse (2.9.7-1ubuntu1) ...\n",
            "Selecting previously unselected package google-drive-ocamlfuse.\n",
            "Preparing to unpack .../google-drive-ocamlfuse_0.6.21-0ubuntu2_amd64.deb ...\n",
            "Unpacking google-drive-ocamlfuse (0.6.21-0ubuntu2) ...\n",
            "Setting up libfuse2:amd64 (2.9.7-1ubuntu1) ...\n",
            "Processing triggers for libc-bin (2.26-0ubuntu2.1) ...\n",
            "Setting up fuse (2.9.7-1ubuntu1) ...\n",
            "Setting up google-drive-ocamlfuse (0.6.21-0ubuntu2) ...\n"
          ],
          "name": "stdout"
        }
      ]
    },
    {
      "metadata": {
        "id": "figPK1oiexGF",
        "colab_type": "code",
        "colab": {}
      },
      "cell_type": "code",
      "source": [
        "from google.colab import auth\n",
        "auth.authenticate_user()"
      ],
      "execution_count": 0,
      "outputs": []
    },
    {
      "metadata": {
        "id": "FVmaY9GIfKBz",
        "colab_type": "code",
        "colab": {
          "base_uri": "https://localhost:8080/",
          "height": 106
        },
        "outputId": "69c007ee-106c-45b1-a6a8-64af3d745006"
      },
      "cell_type": "code",
      "source": [
        "from oauth2client.client import GoogleCredentials\n",
        "creds = GoogleCredentials.get_application_default()\n",
        "import getpass\n",
        "!google-drive-ocamlfuse -headless -id={creds.client_id} -secret={creds.client_secret} < /dev/null 2>&1 | grep URL\n",
        "vcode = getpass.getpass()\n",
        "!echo {vcode} | google-drive-ocamlfuse -headless -id={creds.client_id} -secret={creds.client_secret}"
      ],
      "execution_count": 3,
      "outputs": [
        {
          "output_type": "stream",
          "text": [
            "Please, open the following URL in a web browser: https://accounts.google.com/o/oauth2/auth?client_id=32555940559.apps.googleusercontent.com&redirect_uri=urn%3Aietf%3Awg%3Aoauth%3A2.0%3Aoob&scope=https%3A%2F%2Fwww.googleapis.com%2Fauth%2Fdrive&response_type=code&access_type=offline&approval_prompt=force\r\n",
            "··········\n",
            "Please, open the following URL in a web browser: https://accounts.google.com/o/oauth2/auth?client_id=32555940559.apps.googleusercontent.com&redirect_uri=urn%3Aietf%3Awg%3Aoauth%3A2.0%3Aoob&scope=https%3A%2F%2Fwww.googleapis.com%2Fauth%2Fdrive&response_type=code&access_type=offline&approval_prompt=force\n",
            "Please enter the verification code: Access token retrieved correctly.\n"
          ],
          "name": "stdout"
        }
      ]
    },
    {
      "metadata": {
        "id": "_XFVCJpkgPQX",
        "colab_type": "code",
        "colab": {}
      },
      "cell_type": "code",
      "source": [
        "!mkdir -p my_drive\n",
        "!google-drive-ocamlfuse my_drive"
      ],
      "execution_count": 0,
      "outputs": []
    },
    {
      "metadata": {
        "id": "8I2ZEfgkpht6",
        "colab_type": "code",
        "colab": {
          "base_uri": "https://localhost:8080/",
          "height": 34
        },
        "outputId": "9d018e3a-a79b-4221-8ac6-f0912fb0e70c"
      },
      "cell_type": "code",
      "source": [
        "from __future__ import absolute_import\n",
        "from __future__ import print_function\n",
        "import numpy as np\n",
        "import sys\n",
        "import random\n",
        "import h5py\n",
        "from PIL import Image\n",
        "import matplotlib.pyplot as plt\n",
        "from keras.datasets import mnist\n",
        "from keras.models import *\n",
        "from keras.layers import Input, Flatten, Dense, Dropout, Lambda,Conv2D, MaxPooling2D,concatenate,Concatenate,BatchNormalization\n",
        "from keras.layers.advanced_activations import LeakyReLU, PReLU\n",
        "from keras.optimizers import RMSprop,Adam\n",
        "from keras import backend as K\n",
        "from keras.utils import plot_model\n",
        "from IPython.display import SVG\n",
        "from keras.utils.vis_utils import model_to_dot"
      ],
      "execution_count": 5,
      "outputs": [
        {
          "output_type": "stream",
          "text": [
            "Using TensorFlow backend.\n"
          ],
          "name": "stderr"
        }
      ]
    },
    {
      "metadata": {
        "id": "kDqi8Sjvphuq",
        "colab_type": "code",
        "colab": {
          "base_uri": "https://localhost:8080/",
          "height": 34
        },
        "outputId": "68c0ba60-621d-42c0-e29a-92645796ba4a"
      },
      "cell_type": "code",
      "source": [
        "epoch = 80\n",
        "Batch_Size=64\n",
        "learning_rate=1e-3\n",
        "name=\"triplet_dataset123\"\n",
        "path= './my_drive/app/'\n",
        "data_path = path+name\n",
        "\n",
        "print(data_path)\n",
        "activ=\"LeakyReLU\"\n",
        "##name of storing models\n",
        "#dataset_activation_epochs\n",
        "FC_model=path+\"_\"+name+\"_\"+activ+\"LeakyReLU_bachnormalization\"+\"_80_FC_modified_triplet_weights.h5\"\n",
        "feature_model=path+\"_\"+name+\"_\"+activ+\"LeakyReLU_batchnormalization\"+\"_80_feature_model_.h5\"\n"
      ],
      "execution_count": 6,
      "outputs": [
        {
          "output_type": "stream",
          "text": [
            "./my_drive/app/triplet_dataset123\n"
          ],
          "name": "stdout"
        }
      ]
    },
    {
      "metadata": {
        "id": "Yio94Z6dpzgM",
        "colab_type": "code",
        "colab": {}
      },
      "cell_type": "code",
      "source": [
        ""
      ],
      "execution_count": 0,
      "outputs": []
    },
    {
      "metadata": {
        "id": "z9sf0HY5phu_",
        "colab_type": "code",
        "colab": {}
      },
      "cell_type": "code",
      "source": [
        "def load_data(data_path):\n",
        "    with h5py.File(data_path+\".h5\",'r') as hdf: \n",
        "#    hdf.create_dataset(name=\"anchor_pairs\",data=x_train))\n",
        "        x=np.array(hdf.get(\"anchor_pairs\"))\n",
        "    return x\n"
      ],
      "execution_count": 0,
      "outputs": []
    },
    {
      "metadata": {
        "id": "tKG8P5_aphvZ",
        "colab_type": "code",
        "colab": {}
      },
      "cell_type": "code",
      "source": [
        "def euclidean_distance(vects):\n",
        "    x, y = vects\n",
        "    return K.sqrt(K.maximum(K.sum(K.square(x - y), axis=1, keepdims=True), K.epsilon()))"
      ],
      "execution_count": 0,
      "outputs": []
    },
    {
      "metadata": {
        "id": "L9otQ9guphvv",
        "colab_type": "code",
        "colab": {}
      },
      "cell_type": "code",
      "source": [
        "def eucl_dist_output_shape(shapes):\n",
        "    shape1, shape2 = shapes\n",
        "    print (\"euclidean shape\",(shape1[0], 1))\n",
        "    return (shape1[0], 1)"
      ],
      "execution_count": 0,
      "outputs": []
    },
    {
      "metadata": {
        "id": "PerstTiHphv7",
        "colab_type": "code",
        "colab": {}
      },
      "cell_type": "code",
      "source": [
        "def contrastive_loss(y_true, y_pred):\n",
        "    '''Contrastive loss from Hadsell-et-al.'06\n",
        "    http://yann.lecun.com/exdb/publis/pdf/hadsell-chopra-lecun-06.pdf\n",
        "    '''\n",
        "    margin = 1\n",
        "    return K.mean(y_true * K.square(y_pred) +\n",
        "                  (1 - y_true) * K.square(K.maximum(margin - y_pred, 0)))"
      ],
      "execution_count": 0,
      "outputs": []
    },
    {
      "metadata": {
        "id": "e1rKSr_3phwK",
        "colab_type": "code",
        "colab": {}
      },
      "cell_type": "code",
      "source": [
        "def triplet_loss(y_true, y_pred, alpha = 0.2):\n",
        "    \"\"\"\n",
        "    Implementation of the triplet loss function\n",
        "    Arguments:\n",
        "    y_true -- true labels, required when you define a loss in Keras, you don't need it in this function.\n",
        "    y_pred -- python list containing three objects:\n",
        "            anchor -- the encodings for the anchor data\n",
        "            positive -- the encodings for the positive data (similar to anchor)\n",
        "            negative -- the encodings for the negative data (different from anchor)\n",
        "    Returns:\n",
        "    loss -- real number, value of the loss\n",
        "    \"\"\"\n",
        "    print (\"predicted tensor\")\n",
        "    print (y_pred.shape)\n",
        "    anchor=y_pred[:,0:4096]\n",
        "    positive = y_pred[:,4096:8192]\n",
        "    print (\"positive loss\",positive.shape)\n",
        "    negative = y_pred[:,8192:12288]\n",
        "    print (\"negative loss\",negative.shape)\n",
        "\n",
        "    # distance between \n",
        "\n",
        "    # compute loss\n",
        "    pos_dist = K.sum(K.square(anchor-positive),axis=1)\n",
        "    neg_dist = K.sum(K.square(anchor-negative),axis=1)\n",
        "\n",
        "    # compute loss\n",
        "    basic_loss = pos_dist-neg_dist+alpha\n",
        "    loss = K.maximum(basic_loss,0.0)\n",
        "    print (\"loss\",loss)\n",
        "    return loss\n"
      ],
      "execution_count": 0,
      "outputs": []
    },
    {
      "metadata": {
        "id": "f0EZRiygphwZ",
        "colab_type": "code",
        "colab": {}
      },
      "cell_type": "code",
      "source": [
        "def create_base_network(input_shape):\n",
        "    '''Base network to be shared (eq. to feature extraction).\n",
        "    '''\n",
        "    print (\"entering network\")\n",
        "    input = Input(shape=input_shape)\n",
        "    print (input.shape)\n",
        "    x=Conv2D(24, (7, 7),strides=1,kernel_initializer=\"glorot_normal\", padding='same')(input)\n",
        "    x=BatchNormalization(momentum=0.99, epsilon=0.001, beta_initializer='zeros', gamma_initializer='ones')(x)\n",
        "    x=LeakyReLU(alpha=.001)(x)\n",
        "    print (x.shape)\n",
        "    x=MaxPooling2D((2, 2),strides=2)(x)\n",
        "    print (x.shape)\n",
        "    x=Conv2D(64, (5, 5),strides=1, kernel_initializer=\"glorot_normal\", padding='same')(x)\n",
        "    x=BatchNormalization(momentum=0.99, epsilon=0.001, beta_initializer='zeros', gamma_initializer='ones')(x)\n",
        "    x=LeakyReLU(alpha=.001)(x)\n",
        "    print (x.shape)\n",
        "    x=MaxPooling2D((2, 2),strides=2)(x)\n",
        "    print (x.shape)\n",
        "    x=Conv2D(96, (3, 3),strides=1 ,kernel_initializer=\"glorot_normal\", padding='same')(x)\n",
        "    x=BatchNormalization(momentum=0.99, epsilon=0.001, beta_initializer='zeros', gamma_initializer='ones')(x)\n",
        "    x=LeakyReLU(alpha=.001)(x)\n",
        "    print (x.shape)\n",
        "    x=Conv2D(96, (2, 2),strides=1,kernel_initializer=\"glorot_normal\", padding='same')(x)\n",
        "    x=BatchNormalization(momentum=0.99, epsilon=0.001, beta_initializer='zeros', gamma_initializer='ones')(x)\n",
        "    x=LeakyReLU(alpha=.001)(x)\n",
        "    print (x.shape)\n",
        "    x=Conv2D(64, (3, 3),strides=1,kernel_initializer=\"glorot_normal\", padding='same')(x)\n",
        "    x=BatchNormalization(momentum=0.99, epsilon=0.001, beta_initializer='zeros', gamma_initializer='ones')(x)\n",
        "    x=LeakyReLU(alpha=.001)(x)\n",
        "    print (x.shape)\n",
        "    x=MaxPooling2D((2, 2),strides=2)(x)\n",
        "    print (x.shape)\n",
        "    x=Flatten()(x)\n",
        "    print (x.shape)\n",
        "    print (\"exiting network\")\n",
        "    return Model(input, x)"
      ],
      "execution_count": 0,
      "outputs": []
    },
    {
      "metadata": {
        "id": "A8F1R04_phww",
        "colab_type": "code",
        "colab": {}
      },
      "cell_type": "code",
      "source": [
        "def compute_accuracy(y_true, y_pred):\n",
        "    '''Compute classification accuracy with a fixed threshold on distances.\n",
        "    '''\n",
        "    pred = y_pred.ravel() < 0.5\n",
        "    return np.mean(pred == y_true)"
      ],
      "execution_count": 0,
      "outputs": []
    },
    {
      "metadata": {
        "id": "agIMP4KmphxP",
        "colab_type": "code",
        "colab": {}
      },
      "cell_type": "code",
      "source": [
        "def accuracy(y_true, y_pred):\n",
        "    '''Compute classification accuracy with a fixed threshold on distances.\n",
        "    '''\n",
        "    return K.mean(K.equal(y_true, K.cast(y_pred < 0.5, y_true.dtype)))\n"
      ],
      "execution_count": 0,
      "outputs": []
    },
    {
      "metadata": {
        "id": "FhLT7uGvphx2",
        "colab_type": "code",
        "colab": {
          "base_uri": "https://localhost:8080/",
          "height": 52
        },
        "outputId": "1cebc7b9-c461-4082-8eea-709f6c969ab1"
      },
      "cell_type": "code",
      "source": [
        "##comparison  anchor\n",
        "print(data_path)\n",
        "x=load_data(data_path)\n",
        "x=np.array((x),dtype=np.uint8)\n",
        "data_instances=x.shape[0]\n",
        "print (x.shape)\n",
        "\n",
        "#Image.fromarray(x[10,0,:,:,:],'RGB').show()\n",
        "#Image.fromarray(x[10,1,:,:,:],'RGB').show()\n",
        "#Image.fromarray(x[10,2,:,:,:],'RGB').show()\n",
        "\n"
      ],
      "execution_count": 85,
      "outputs": [
        {
          "output_type": "stream",
          "text": [
            "./my_drive/app/triplet_dataset123\n",
            "(10000, 3, 64, 64)\n"
          ],
          "name": "stdout"
        }
      ]
    },
    {
      "metadata": {
        "id": "alktR8SVphyX",
        "colab_type": "code",
        "colab": {
          "base_uri": "https://localhost:8080/",
          "height": 379
        },
        "outputId": "92422c2c-c685-4770-be12-ab9f10288dd1"
      },
      "cell_type": "code",
      "source": [
        "\n",
        "f, (ax1, ax2,ax3) = plt.subplots(1, 3, sharey=True)\n",
        "num=int(random.randint(1,data_instances)%data_instances)\n",
        "#anchor_im=[255*(x[d,0,:,:]/x[d,0,:,:].max())for d in range(data_instances)]\n",
        "#pos_im=[255*x[d,0,:,:]/x[d,0,:,:].max() for d in range(data_instances)]\n",
        "#neg_im=[255*x[d,0,:,:]/x[d,0,:,:].max() for d in range(data_instances)]\n",
        "#anchor_im=np.array((anchor_im), dtype =np.uint8)\n",
        "#img = anchor_im.astype(np.uint8)\n",
        "#ax1.imshow(img[0,:,:])\n",
        "ax1.imshow(x[num,0,:,:])\n",
        "ax1.set_title('anchor')\n",
        "ax2.imshow(x[num,1,:,:])\n",
        "ax2.set_title('positive')\n",
        "ax3.imshow(x[num,2,:,:])\n",
        "ax3.set_title('negative')\n",
        "print (x.shape)"
      ],
      "execution_count": 86,
      "outputs": [
        {
          "output_type": "stream",
          "text": [
            "(10000, 3, 64, 64)\n"
          ],
          "name": "stdout"
        },
        {
          "output_type": "display_data",
          "data": {
            "image/png": "[encoded data removed]",
            "text/plain": [
              "<matplotlib.figure.Figure at 0x7f69ce730f60>"
            ]
          },
          "metadata": {
            "tags": []
          }
        }
      ]
    },
    {
      "metadata": {
        "id": "8AyCSJiWphy3",
        "colab_type": "code",
        "colab": {
          "base_uri": "https://localhost:8080/",
          "height": 34
        },
        "outputId": "d72888b5-b2b9-4f62-c567-fcd950e0d8ea"
      },
      "cell_type": "code",
      "source": [
        "print (num)"
      ],
      "execution_count": 87,
      "outputs": [
        {
          "output_type": "stream",
          "text": [
            "2465\n"
          ],
          "name": "stdout"
        }
      ]
    },
    {
      "metadata": {
        "id": "jg6MbH-uphzP",
        "colab_type": "code",
        "colab": {
          "base_uri": "https://localhost:8080/",
          "height": 225
        },
        "outputId": "59c68aa5-da5b-425f-db10-75874c495945"
      },
      "cell_type": "code",
      "source": [
        "in_dims = (64,64,1)\n",
        "out_dims = (8,8,64)\n",
        "\n",
        "# Network definition\n",
        "#with tf.device(tf_device):\n",
        "\n",
        "# Create the 3 inputs\n",
        "anchor_in = Input(shape=in_dims,name=\"anchor\")\n",
        "pos_in = Input(shape=in_dims,name=\"positive\")\n",
        "neg_in = Input(shape=in_dims,name=\"negative\")\n",
        "\n",
        "# Share base network with the 3 inputs\n",
        "base_network = create_base_network(in_dims)\n",
        "anchor_out = base_network(anchor_in)\n",
        "pos_out = base_network(pos_in)\n",
        "neg_out = base_network(neg_in)\n",
        "\n",
        "#lamda layer\n",
        "#pos_distance = Lambda(euclidean_distance,output_shape=eucl_dist_output_shape)([anchor_out,pos_out])\n",
        "#print (\"positive dist\",pos_distance.shape)\n",
        "#neg_distance = Lambda(euclidean_distance,output_shape=eucl_dist_output_shape)([anchor_out,neg_out])\n",
        "#print (\"negative dist\",neg_distance.shape)\n",
        "\n",
        "#\n",
        "#print (\"concatenated\",merged_vector.shape)\n",
        "#model = Model(inputs=[anchor_in, pos_in, neg_in], outputs=merged_vector)\n",
        "\n",
        "merged_vector = concatenate([anchor_out, pos_out, neg_out],axis=-1)\n",
        "\n",
        "# Define the trainable model\n",
        "model = Model(inputs=[anchor_in, pos_in, neg_in], outputs=merged_vector)\n"
      ],
      "execution_count": 88,
      "outputs": [
        {
          "output_type": "stream",
          "text": [
            "entering network\n",
            "(?, 64, 64, 1)\n",
            "(?, 64, 64, 24)\n",
            "(?, 32, 32, 24)\n",
            "(?, 32, 32, 64)\n",
            "(?, 16, 16, 64)\n",
            "(?, 16, 16, 96)\n",
            "(?, 16, 16, 96)\n",
            "(?, 16, 16, 64)\n",
            "(?, 8, 8, 64)\n",
            "(?, ?)\n",
            "exiting network\n"
          ],
          "name": "stdout"
        }
      ]
    },
    {
      "metadata": {
        "id": "WtOC6v0Aphzt",
        "colab_type": "code",
        "colab": {
          "base_uri": "https://localhost:8080/",
          "height": 2937
        },
        "outputId": "ff2245c0-2547-429e-d17f-fb8f606d0dc7"
      },
      "cell_type": "code",
      "source": [
        "model.compile(optimizer=Adam(lr=learning_rate),\n",
        "              loss=triplet_loss)\n",
        "#sys.exit(0)\n",
        "y_dummie=np.zeros((len(x)))\n",
        "# Training the model\n",
        "x=np.reshape((x),(10000,3,64,64,1))\n",
        "model.fit([x[:,0,:,:],x[:,1,:,:],x[:,2,:,:]], y_dummie,validation_split=0.2,batch_size=64, epochs=epoch)"
      ],
      "execution_count": 89,
      "outputs": [
        {
          "output_type": "stream",
          "text": [
            "predicted tensor\n",
            "(?, ?)\n",
            "positive loss (?, ?)\n",
            "negative loss (?, ?)\n",
            "loss Tensor(\"loss_9/concatenate_7_loss/Maximum:0\", shape=(?,), dtype=float32)\n",
            "Train on 8000 samples, validate on 2000 samples\n",
            "Epoch 1/80\n",
            "8000/8000 [==============================] - 25s 3ms/step - loss: 7.5858 - val_loss: 0.6886\n",
            "Epoch 2/80\n",
            "8000/8000 [==============================] - 22s 3ms/step - loss: 0.2848 - val_loss: 0.3046\n",
            "Epoch 3/80\n",
            "2496/8000 [========>.....................] - ETA: 13s - loss: 0.1300"
          ],
          "name": "stdout"
        },
        {
          "output_type": "stream",
          "text": [
            "8000/8000 [==============================] - 22s 3ms/step - loss: 0.1340 - val_loss: 0.1891\n",
            "Epoch 4/80\n",
            "8000/8000 [==============================] - 22s 3ms/step - loss: 0.0840 - val_loss: 0.1088\n",
            "Epoch 5/80\n",
            "8000/8000 [==============================] - 22s 3ms/step - loss: 0.0606 - val_loss: 0.0791\n",
            "Epoch 6/80\n",
            "6528/8000 [=======================>......] - ETA: 3s - loss: 0.0487"
          ],
          "name": "stdout"
        },
        {
          "output_type": "stream",
          "text": [
            "8000/8000 [==============================] - 22s 3ms/step - loss: 0.0462 - val_loss: 0.0690\n",
            "Epoch 7/80\n",
            "8000/8000 [==============================] - 22s 3ms/step - loss: 0.0357 - val_loss: 0.0573\n",
            "Epoch 8/80\n",
            "8000/8000 [==============================] - 22s 3ms/step - loss: 0.0296 - val_loss: 0.0488\n",
            "Epoch 9/80\n",
            "7232/8000 [==========================>...] - ETA: 1s - loss: 0.0261"
          ],
          "name": "stdout"
        },
        {
          "output_type": "stream",
          "text": [
            "8000/8000 [==============================] - 22s 3ms/step - loss: 0.0251 - val_loss: 0.0488\n",
            "Epoch 10/80\n",
            "8000/8000 [==============================] - 22s 3ms/step - loss: 0.0233 - val_loss: 1.2207\n",
            "Epoch 11/80\n",
            "8000/8000 [==============================] - 22s 3ms/step - loss: 0.0197 - val_loss: 0.0383\n",
            "Epoch 12/80\n",
            "7232/8000 [==========================>...] - ETA: 1s - loss: 0.0184"
          ],
          "name": "stdout"
        },
        {
          "output_type": "stream",
          "text": [
            "8000/8000 [==============================] - 22s 3ms/step - loss: 0.0181 - val_loss: 0.0340\n",
            "Epoch 13/80\n",
            "8000/8000 [==============================] - 22s 3ms/step - loss: 0.0165 - val_loss: 0.0324\n",
            "Epoch 14/80\n",
            "8000/8000 [==============================] - 22s 3ms/step - loss: 0.0148 - val_loss: 0.0309\n",
            "Epoch 15/80\n",
            "7232/8000 [==========================>...] - ETA: 1s - loss: 0.0143"
          ],
          "name": "stdout"
        },
        {
          "output_type": "stream",
          "text": [
            "8000/8000 [==============================] - 22s 3ms/step - loss: 0.0150 - val_loss: 0.0304\n",
            "Epoch 16/80\n",
            "8000/8000 [==============================] - 22s 3ms/step - loss: 0.0130 - val_loss: 0.0298\n",
            "Epoch 17/80\n",
            "8000/8000 [==============================] - 22s 3ms/step - loss: 0.0117 - val_loss: 0.0322\n",
            "Epoch 18/80\n",
            "7232/8000 [==========================>...] - ETA: 1s - loss: 0.0108"
          ],
          "name": "stdout"
        },
        {
          "output_type": "stream",
          "text": [
            "8000/8000 [==============================] - 22s 3ms/step - loss: 0.0110 - val_loss: 0.0283\n",
            "Epoch 19/80\n",
            "8000/8000 [==============================] - 22s 3ms/step - loss: 0.0116 - val_loss: 0.0273\n",
            "Epoch 20/80\n",
            "8000/8000 [==============================] - 22s 3ms/step - loss: 0.0108 - val_loss: 0.0292\n",
            "Epoch 21/80\n",
            "7232/8000 [==========================>...] - ETA: 1s - loss: 0.0085"
          ],
          "name": "stdout"
        },
        {
          "output_type": "stream",
          "text": [
            "8000/8000 [==============================] - 22s 3ms/step - loss: 0.0092 - val_loss: 0.0280\n",
            "Epoch 22/80\n",
            "8000/8000 [==============================] - 22s 3ms/step - loss: 0.0101 - val_loss: 0.0277\n",
            "Epoch 23/80\n",
            "8000/8000 [==============================] - 22s 3ms/step - loss: 0.0089 - val_loss: 0.0256\n",
            "Epoch 24/80\n",
            "7232/8000 [==========================>...] - ETA: 1s - loss: 0.0095"
          ],
          "name": "stdout"
        },
        {
          "output_type": "stream",
          "text": [
            "8000/8000 [==============================] - 22s 3ms/step - loss: 0.0093 - val_loss: 0.0254\n",
            "Epoch 25/80\n",
            "8000/8000 [==============================] - 22s 3ms/step - loss: 0.0072 - val_loss: 0.0273\n",
            "Epoch 26/80\n",
            "8000/8000 [==============================] - 22s 3ms/step - loss: 0.0086 - val_loss: 0.0259\n",
            "Epoch 27/80\n",
            "7232/8000 [==========================>...] - ETA: 1s - loss: 0.0062"
          ],
          "name": "stdout"
        },
        {
          "output_type": "stream",
          "text": [
            "8000/8000 [==============================] - 22s 3ms/step - loss: 0.0064 - val_loss: 0.0279\n",
            "Epoch 28/80\n",
            "8000/8000 [==============================] - 22s 3ms/step - loss: 0.0066 - val_loss: 0.0264\n",
            "Epoch 29/80\n",
            "8000/8000 [==============================] - 22s 3ms/step - loss: 0.0106 - val_loss: 0.1056\n",
            "Epoch 30/80\n",
            "7232/8000 [==========================>...] - ETA: 1s - loss: 0.0061"
          ],
          "name": "stdout"
        },
        {
          "output_type": "stream",
          "text": [
            "8000/8000 [==============================] - 22s 3ms/step - loss: 0.0064 - val_loss: 0.0265\n",
            "Epoch 31/80\n",
            "8000/8000 [==============================] - 22s 3ms/step - loss: 0.0082 - val_loss: 0.0327\n",
            "Epoch 32/80\n",
            "8000/8000 [==============================] - 22s 3ms/step - loss: 0.0084 - val_loss: 0.0367\n",
            "Epoch 33/80\n",
            "7232/8000 [==========================>...] - ETA: 1s - loss: 0.0068"
          ],
          "name": "stdout"
        },
        {
          "output_type": "stream",
          "text": [
            "8000/8000 [==============================] - 22s 3ms/step - loss: 0.0073 - val_loss: 0.0291\n",
            "Epoch 34/80\n",
            "8000/8000 [==============================] - 22s 3ms/step - loss: 0.0066 - val_loss: 0.2282\n",
            "Epoch 35/80\n",
            "8000/8000 [==============================] - 22s 3ms/step - loss: 0.0076 - val_loss: 0.0311\n",
            "Epoch 36/80\n",
            "7232/8000 [==========================>...] - ETA: 1s - loss: 0.0081"
          ],
          "name": "stdout"
        },
        {
          "output_type": "stream",
          "text": [
            "8000/8000 [==============================] - 22s 3ms/step - loss: 0.0076 - val_loss: 0.0262\n",
            "Epoch 37/80\n",
            "8000/8000 [==============================] - 22s 3ms/step - loss: 0.0060 - val_loss: 0.0254\n",
            "Epoch 38/80\n",
            "8000/8000 [==============================] - 22s 3ms/step - loss: 0.0081 - val_loss: 0.0296\n",
            "Epoch 39/80\n",
            "7232/8000 [==========================>...] - ETA: 1s - loss: 0.0055"
          ],
          "name": "stdout"
        },
        {
          "output_type": "stream",
          "text": [
            "8000/8000 [==============================] - 22s 3ms/step - loss: 0.0052 - val_loss: 0.0310\n",
            "Epoch 40/80\n",
            "8000/8000 [==============================] - 22s 3ms/step - loss: 0.0067 - val_loss: 0.0277\n",
            "Epoch 41/80\n",
            "8000/8000 [==============================] - 22s 3ms/step - loss: 0.0057 - val_loss: 0.0237\n",
            "Epoch 42/80\n",
            "7232/8000 [==========================>...] - ETA: 1s - loss: 0.0069"
          ],
          "name": "stdout"
        },
        {
          "output_type": "stream",
          "text": [
            "8000/8000 [==============================] - 22s 3ms/step - loss: 0.0068 - val_loss: 0.0402\n",
            "Epoch 43/80\n",
            "8000/8000 [==============================] - 22s 3ms/step - loss: 0.0065 - val_loss: 0.2350\n",
            "Epoch 44/80\n",
            "8000/8000 [==============================] - 22s 3ms/step - loss: 0.0061 - val_loss: 0.0321\n",
            "Epoch 45/80\n",
            "7232/8000 [==========================>...] - ETA: 1s - loss: 0.0080"
          ],
          "name": "stdout"
        },
        {
          "output_type": "stream",
          "text": [
            "8000/8000 [==============================] - 22s 3ms/step - loss: 0.0076 - val_loss: 0.0261\n",
            "Epoch 46/80\n",
            "8000/8000 [==============================] - 22s 3ms/step - loss: 0.0041 - val_loss: 0.0246\n",
            "Epoch 47/80\n",
            "8000/8000 [==============================] - 22s 3ms/step - loss: 0.0055 - val_loss: 0.0285\n",
            "Epoch 48/80\n",
            "7232/8000 [==========================>...] - ETA: 1s - loss: 0.0045"
          ],
          "name": "stdout"
        },
        {
          "output_type": "stream",
          "text": [
            "8000/8000 [==============================] - 22s 3ms/step - loss: 0.0045 - val_loss: 0.0266\n",
            "Epoch 49/80\n",
            "8000/8000 [==============================] - 22s 3ms/step - loss: 0.0058 - val_loss: 0.0268\n",
            "Epoch 50/80\n",
            "8000/8000 [==============================] - 22s 3ms/step - loss: 0.0061 - val_loss: 0.0294\n",
            "Epoch 51/80\n",
            "7232/8000 [==========================>...] - ETA: 1s - loss: 0.0047"
          ],
          "name": "stdout"
        },
        {
          "output_type": "stream",
          "text": [
            "8000/8000 [==============================] - 22s 3ms/step - loss: 0.0047 - val_loss: 0.0457\n",
            "Epoch 52/80\n",
            "8000/8000 [==============================] - 22s 3ms/step - loss: 0.0046 - val_loss: 0.0265\n",
            "Epoch 53/80\n",
            "8000/8000 [==============================] - 22s 3ms/step - loss: 0.0050 - val_loss: 0.0379\n",
            "Epoch 54/80\n",
            "7232/8000 [==========================>...] - ETA: 1s - loss: 0.0038"
          ],
          "name": "stdout"
        },
        {
          "output_type": "stream",
          "text": [
            "8000/8000 [==============================] - 22s 3ms/step - loss: 0.0038 - val_loss: 0.0337\n",
            "Epoch 55/80\n",
            "8000/8000 [==============================] - 22s 3ms/step - loss: 0.0057 - val_loss: 0.0422\n",
            "Epoch 56/80\n",
            "8000/8000 [==============================] - 22s 3ms/step - loss: 0.0056 - val_loss: 0.0237\n",
            "Epoch 57/80\n",
            "7232/8000 [==========================>...] - ETA: 1s - loss: 0.0049"
          ],
          "name": "stdout"
        },
        {
          "output_type": "stream",
          "text": [
            "8000/8000 [==============================] - 22s 3ms/step - loss: 0.0051 - val_loss: 0.2529\n",
            "Epoch 58/80\n",
            "8000/8000 [==============================] - 22s 3ms/step - loss: 0.0030 - val_loss: 0.0288\n",
            "Epoch 59/80\n",
            "8000/8000 [==============================] - 22s 3ms/step - loss: 0.0035 - val_loss: 0.0323\n",
            "Epoch 60/80\n",
            "7232/8000 [==========================>...] - ETA: 1s - loss: 0.0050"
          ],
          "name": "stdout"
        },
        {
          "output_type": "stream",
          "text": [
            "8000/8000 [==============================] - 22s 3ms/step - loss: 0.0050 - val_loss: 0.0221\n",
            "Epoch 61/80\n",
            "8000/8000 [==============================] - 22s 3ms/step - loss: 0.0051 - val_loss: 0.1870\n",
            "Epoch 62/80\n",
            "8000/8000 [==============================] - 22s 3ms/step - loss: 0.0036 - val_loss: 0.0243\n",
            "Epoch 63/80\n",
            "7232/8000 [==========================>...] - ETA: 1s - loss: 0.0042"
          ],
          "name": "stdout"
        },
        {
          "output_type": "stream",
          "text": [
            "8000/8000 [==============================] - 22s 3ms/step - loss: 0.0046 - val_loss: 0.0349\n",
            "Epoch 64/80\n",
            "8000/8000 [==============================] - 22s 3ms/step - loss: 0.0045 - val_loss: 0.0268\n",
            "Epoch 65/80\n",
            "8000/8000 [==============================] - 22s 3ms/step - loss: 0.0050 - val_loss: 0.0224\n",
            "Epoch 66/80\n",
            "7232/8000 [==========================>...] - ETA: 1s - loss: 0.0025"
          ],
          "name": "stdout"
        },
        {
          "output_type": "stream",
          "text": [
            "8000/8000 [==============================] - 22s 3ms/step - loss: 0.0027 - val_loss: 0.0719\n",
            "Epoch 67/80\n",
            "8000/8000 [==============================] - 22s 3ms/step - loss: 0.0029 - val_loss: 0.0344\n",
            "Epoch 68/80\n",
            "8000/8000 [==============================] - 22s 3ms/step - loss: 0.0041 - val_loss: 0.0287\n",
            "Epoch 69/80\n",
            "7232/8000 [==========================>...] - ETA: 1s - loss: 0.0036"
          ],
          "name": "stdout"
        },
        {
          "output_type": "stream",
          "text": [
            "8000/8000 [==============================] - 22s 3ms/step - loss: 0.0038 - val_loss: 0.0324\n",
            "Epoch 70/80\n",
            "8000/8000 [==============================] - 22s 3ms/step - loss: 0.0042 - val_loss: 0.0200\n",
            "Epoch 71/80\n",
            "8000/8000 [==============================] - 22s 3ms/step - loss: 0.0041 - val_loss: 0.0257\n",
            "Epoch 72/80\n",
            "7232/8000 [==========================>...] - ETA: 1s - loss: 0.0048"
          ],
          "name": "stdout"
        },
        {
          "output_type": "stream",
          "text": [
            "8000/8000 [==============================] - 22s 3ms/step - loss: 0.0046 - val_loss: 0.0250\n",
            "Epoch 73/80\n",
            "8000/8000 [==============================] - 22s 3ms/step - loss: 0.0024 - val_loss: 0.0210\n",
            "Epoch 74/80\n",
            "8000/8000 [==============================] - 22s 3ms/step - loss: 0.0036 - val_loss: 0.0296\n",
            "Epoch 75/80\n",
            "7232/8000 [==========================>...] - ETA: 1s - loss: 0.0034"
          ],
          "name": "stdout"
        },
        {
          "output_type": "stream",
          "text": [
            "8000/8000 [==============================] - 22s 3ms/step - loss: 0.0035 - val_loss: 0.0219\n",
            "Epoch 76/80\n",
            "8000/8000 [==============================] - 22s 3ms/step - loss: 0.0035 - val_loss: 0.0282\n",
            "Epoch 77/80\n",
            "8000/8000 [==============================] - 22s 3ms/step - loss: 0.0063 - val_loss: 0.0398\n",
            "Epoch 78/80\n",
            "7232/8000 [==========================>...] - ETA: 1s - loss: 0.0163"
          ],
          "name": "stdout"
        },
        {
          "output_type": "stream",
          "text": [
            "8000/8000 [==============================] - 22s 3ms/step - loss: 0.0154 - val_loss: 0.3783\n",
            "Epoch 79/80\n",
            "8000/8000 [==============================] - 22s 3ms/step - loss: 0.0040 - val_loss: 0.0238\n",
            "Epoch 80/80\n",
            "8000/8000 [==============================] - 22s 3ms/step - loss: 0.0036 - val_loss: 0.0203\n"
          ],
          "name": "stdout"
        },
        {
          "output_type": "execute_result",
          "data": {
            "text/plain": [
              "<keras.callbacks.History at 0x7f6958ec5208>"
            ]
          },
          "metadata": {
            "tags": []
          },
          "execution_count": 89
        }
      ]
    },
    {
      "metadata": {
        "id": "fAniZJVMZaXj",
        "colab_type": "code",
        "colab": {}
      },
      "cell_type": "code",
      "source": [
        "loss=[7.5858,0.2848,0.1340,0.0840,0.0606,0.0462,0.0357,0.0296,0.0251,0.0233,0.0197,0.0181.0.0165,0.0148,0.0150,0.0130,0.0117,0.0110,0.0116,0.0089,0.00958,0.0072,0.0086,0.0064,0.0066,0.0106,0.0064,0.0082,0.0084,0.0064,0.0073,0.0066,0.0076,0.0060,0.0081, 0.0052,0.0067,0.0057,0.0068, 0.0065,0.0061,0.008,0.0041,0.0055,0.0045,0.0045, 0.0058,0.0061,0.0047,0.0047,0.0046,0.0058,0.0038,0.0038,0.0057,0.0056,0.0049,0.0051,0.003,0.0035,0.005,0.0051,0.0036,0.0046,0.0045,0.005,0.0027,0.0029,0.0042,0.0041,.0046,0.0024,0.0036,0.0035,0.0035,0.0063,0.0154,0.0040,0.0036]"
      ],
      "execution_count": 0,
      "outputs": []
    },
    {
      "metadata": {
        "id": "upb5_UT4ph0F",
        "colab_type": "code",
        "colab": {}
      },
      "cell_type": "code",
      "source": [
        "model.save_weights(feature_model)"
      ],
      "execution_count": 0,
      "outputs": []
    },
    {
      "metadata": {
        "id": "iwh1uAn6ph0i",
        "colab_type": "code",
        "colab": {
          "base_uri": "https://localhost:8080/",
          "height": 34
        },
        "outputId": "93608ecc-beba-4965-e0db-24e01aa801e3"
      },
      "cell_type": "code",
      "source": [
        "feature_model=path+\"triplet_dataset123FC_10000_triplet_weights_90nd.h5\"\n",
        "\n",
        "print(feature_model)\n",
        "model.load_weights(feature_model,'r')"
      ],
      "execution_count": 49,
      "outputs": [
        {
          "output_type": "stream",
          "text": [
            "./my_drive/app/triplet_dataset123FC_10000_triplet_weights_90nd.h5\n"
          ],
          "name": "stdout"
        }
      ]
    },
    {
      "metadata": {
        "id": "tXvIXIUFph1Y",
        "colab_type": "code",
        "colab": {
          "base_uri": "https://localhost:8080/",
          "height": 382
        },
        "outputId": "77117513-201e-4996-b9e9-0ad37290eb88"
      },
      "cell_type": "code",
      "source": [
        "model.summary()"
      ],
      "execution_count": 41,
      "outputs": [
        {
          "output_type": "stream",
          "text": [
            "__________________________________________________________________________________________________\n",
            "Layer (type)                    Output Shape         Param #     Connected to                     \n",
            "==================================================================================================\n",
            "anchor (InputLayer)             (None, 64, 64, 1)    0                                            \n",
            "__________________________________________________________________________________________________\n",
            "positive (InputLayer)           (None, 64, 64, 1)    0                                            \n",
            "__________________________________________________________________________________________________\n",
            "negative (InputLayer)           (None, 64, 64, 1)    0                                            \n",
            "__________________________________________________________________________________________________\n",
            "model_3 (Model)                 (None, 4096)         188752      anchor[0][0]                     \n",
            "                                                                 positive[0][0]                   \n",
            "                                                                 negative[0][0]                   \n",
            "__________________________________________________________________________________________________\n",
            "concatenate_2 (Concatenate)     (None, 12288)        0           model_3[1][0]                    \n",
            "                                                                 model_3[2][0]                    \n",
            "                                                                 model_3[3][0]                    \n",
            "==================================================================================================\n",
            "Total params: 188,752\n",
            "Trainable params: 188,064\n",
            "Non-trainable params: 688\n",
            "__________________________________________________________________________________________________\n"
          ],
          "name": "stdout"
        }
      ]
    },
    {
      "metadata": {
        "id": "OPKVVk-xph14",
        "colab_type": "code",
        "colab": {}
      },
      "cell_type": "code",
      "source": [
        "#model.get_config()"
      ],
      "execution_count": 0,
      "outputs": []
    },
    {
      "metadata": {
        "id": "d8EmOYJvph2R",
        "colab_type": "code",
        "colab": {
          "base_uri": "https://localhost:8080/",
          "height": 69
        },
        "outputId": "e1b99fc5-973d-4d0b-984e-d35ed3740725"
      },
      "cell_type": "code",
      "source": [
        "model.inputs"
      ],
      "execution_count": 43,
      "outputs": [
        {
          "output_type": "execute_result",
          "data": {
            "text/plain": [
              "[<tf.Tensor 'anchor_2:0' shape=(?, 64, 64, 1) dtype=float32>,\n",
              " <tf.Tensor 'positive_2:0' shape=(?, 64, 64, 1) dtype=float32>,\n",
              " <tf.Tensor 'negative_2:0' shape=(?, 64, 64, 1) dtype=float32>]"
            ]
          },
          "metadata": {
            "tags": []
          },
          "execution_count": 43
        }
      ]
    },
    {
      "metadata": {
        "id": "4LuvweZKph3V",
        "colab_type": "code",
        "colab": {}
      },
      "cell_type": "code",
      "source": [
        "#for i in model.layers:\n",
        "#    print (\"Layer weights\", i)\n",
        "#    print (i.get_weights())"
      ],
      "execution_count": 0,
      "outputs": []
    },
    {
      "metadata": {
        "id": "d_5UfeKeph3q",
        "colab_type": "code",
        "colab": {
          "base_uri": "https://localhost:8080/",
          "height": 34
        },
        "outputId": "bd560b93-4d8a-4d2d-e079-0139b3c40cb3"
      },
      "cell_type": "code",
      "source": [
        "model.outputs"
      ],
      "execution_count": 45,
      "outputs": [
        {
          "output_type": "execute_result",
          "data": {
            "text/plain": [
              "[<tf.Tensor 'concatenate_2/concat:0' shape=(?, ?) dtype=float32>]"
            ]
          },
          "metadata": {
            "tags": []
          },
          "execution_count": 45
        }
      ]
    },
    {
      "metadata": {
        "id": "v4Y2plLsph4b",
        "colab_type": "text"
      },
      "cell_type": "markdown",
      "source": [
        "##### Predict for metric network training"
      ]
    },
    {
      "metadata": {
        "id": "XGXHL8zSph4e",
        "colab_type": "code",
        "colab": {}
      },
      "cell_type": "code",
      "source": [
        "in1=np.reshape(x[:,0,:,:],(data_instances,64,64,1))\n",
        "in2=np.reshape(x[:,1,:,:],(data_instances,64,64,1))\n",
        "in3=np.reshape(x[:,2,:,:],(data_instances,64,64,1))"
      ],
      "execution_count": 0,
      "outputs": []
    },
    {
      "metadata": {
        "id": "JLg-xLnOHbDP",
        "colab_type": "code",
        "colab": {
          "base_uri": "https://localhost:8080/",
          "height": 52
        },
        "outputId": "c3edc87a-fd44-4810-8fac-1b2746b5148d"
      },
      "cell_type": "code",
      "source": [
        "pred=model.predict([in1,in2,in3])\n",
        "print (pred[0,:])"
      ],
      "execution_count": 93,
      "outputs": [
        {
          "output_type": "stream",
          "text": [
            "[ 0.23270766  0.32880104  0.2328936  ...  0.3546826  -0.00057488\n",
            " -0.00056187]\n"
          ],
          "name": "stdout"
        }
      ]
    },
    {
      "metadata": {
        "id": "5jtvG5k7ph4u",
        "colab_type": "text"
      },
      "cell_type": "markdown",
      "source": [
        "##### Make Metric network feasible input"
      ]
    },
    {
      "metadata": {
        "id": "ZzJr9TUlph4w",
        "colab_type": "code",
        "colab": {
          "base_uri": "https://localhost:8080/",
          "height": 34
        },
        "outputId": "fcdd2f85-671d-4753-9939-97a059303cf1"
      },
      "cell_type": "code",
      "source": [
        "a=pred[:,0:4096]\n",
        "p=pred[:,4096:8192]\n",
        "n=pred[:,8192:12288]\n",
        "\n",
        "metric_a_p=np.array([np.append(a[d,:], p[d,:]) for d in range(len(a))]) \n",
        "#metric_a_p=np.array((np.concatenate((pred[:,0:4096],pred[:,4096:8192]))))\n",
        "#metric_a_n=np.array((np.concatenate((pred[:,0:4096],pred[:,8192:12288]))))\n",
        "metric_a_n=np.array([np.append(a[d,:], n[d,:]) for d in range(len(a))])\n",
        "print (metric_a_p.shape,metric_a_n.shape)"
      ],
      "execution_count": 94,
      "outputs": [
        {
          "output_type": "stream",
          "text": [
            "(10000, 8192) (10000, 8192)\n"
          ],
          "name": "stdout"
        }
      ]
    },
    {
      "metadata": {
        "id": "-rHSiZmEph5E",
        "colab_type": "code",
        "colab": {}
      },
      "cell_type": "code",
      "source": [
        "a_p=np.square(pred[:,0:4096]-pred[:,4096:8192])\n",
        "a_p=[sum(a_p[d,:]) for d in range(data_instances)]\n",
        "a_p=np.array(a_p)"
      ],
      "execution_count": 0,
      "outputs": []
    },
    {
      "metadata": {
        "id": "7wc1Ntokph5S",
        "colab_type": "code",
        "colab": {}
      },
      "cell_type": "code",
      "source": [
        "\n",
        "a_n=np.square(pred[:,0:4096]-pred[:,8192:12288])\n",
        "a_n=[sum(a_n[d,:]) for d in range(data_instances)]\n",
        "a_n=np.array(a_n)"
      ],
      "execution_count": 0,
      "outputs": []
    },
    {
      "metadata": {
        "id": "34K1pJ9oph5b",
        "colab_type": "code",
        "colab": {
          "base_uri": "https://localhost:8080/",
          "height": 379
        },
        "outputId": "ea8e8cef-15a1-4776-fb8a-1d65d6379fc2"
      },
      "cell_type": "code",
      "source": [
        "diff=a_p-a_n\n",
        "plt.plot(diff)\n",
        "plt.title(\"anchor_positive-anchor_negative distance\")"
      ],
      "execution_count": 97,
      "outputs": [
        {
          "output_type": "execute_result",
          "data": {
            "text/plain": [
              "Text(0.5,1,'anchor_positive-anchor_negative distance')"
            ]
          },
          "metadata": {
            "tags": []
          },
          "execution_count": 97
        },
        {
          "output_type": "display_data",
          "data": {
            "image/png": "[encoded data removed]",
            "text/plain": [
              "<matplotlib.figure.Figure at 0x7f6957197ba8>"
            ]
          },
          "metadata": {
            "tags": []
          }
        }
      ]
    },
    {
      "metadata": {
        "id": "G3ie8tcJph53",
        "colab_type": "text"
      },
      "cell_type": "markdown",
      "source": [
        "#### Metric Part"
      ]
    },
    {
      "metadata": {
        "id": "FeJWLGSmph6B",
        "colab_type": "code",
        "colab": {}
      },
      "cell_type": "code",
      "source": [
        "def create_metric_network(input_shape):\n",
        "    '''Base network to be shared (eq. to feature extraction).\n",
        "    '''\n",
        "    print (\"entering network\")\n",
        "    input = Input(shape=input_shape)\n",
        "    print (input.shape)\n",
        "    \n",
        "    x=Dense(1024, name='first',kernel_initializer=\"glorot_normal\")(input)\n",
        "    x=BatchNormalization(momentum=0.99, epsilon=0.001, beta_initializer='zeros', gamma_initializer='ones')(x)\n",
        "    x=LeakyReLU(alpha=.001)(x)\n",
        "    print (x.shape)\n",
        "    x=Dense(512, name='second',kernel_initializer=\"glorot_normal\")(x)\n",
        "    x=BatchNormalization(momentum=0.99, epsilon=0.001, beta_initializer='zeros', gamma_initializer='ones')(x)\n",
        "    x=LeakyReLU(alpha=.001)(x)\n",
        "    print (x.shape)\n",
        "    x=Dense(1, name='third',kernel_initializer=\"glorot_normal\")(x)\n",
        "    x=BatchNormalization(momentum=0.99, epsilon=0.001, beta_initializer='zeros', gamma_initializer='ones')(x)\n",
        "    x=LeakyReLU(alpha=.001)(x)\n",
        "    print (x.shape)\n",
        "    print (\"exiting network\")\n",
        "    return Model(input, x)"
      ],
      "execution_count": 0,
      "outputs": []
    },
    {
      "metadata": {
        "id": "kpttxcZtTdsF",
        "colab_type": "code",
        "colab": {
          "base_uri": "https://localhost:8080/",
          "height": 121
        },
        "outputId": "b87dc5bd-7d1e-44f7-bffd-68e49dd0f28c"
      },
      "cell_type": "code",
      "source": [
        "in_dim=8192\n",
        "inp=(in_dim,)\n",
        "output_FC=(1,)\n",
        "metric_network=create_metric_network(inp)\n",
        "a_p=Input(shape=inp)\n",
        "a_n=Input(shape=inp)\n",
        "\n",
        "anch_pos=metric_network(a_p)\n",
        "anch_neg=metric_network(a_n)\n",
        "\n",
        "merged_vector = concatenate([anch_pos, anch_neg],axis=-1)\n",
        "prob=Dense(2, activation='softmax', name='third')(merged_vector)\n",
        "model_fc = Model(inputs=[a_p,a_n], outputs=prob)"
      ],
      "execution_count": 99,
      "outputs": [
        {
          "output_type": "stream",
          "text": [
            "entering network\n",
            "(?, 8192)\n",
            "(?, 1024)\n",
            "(?, 512)\n",
            "(?, 1)\n",
            "exiting network\n"
          ],
          "name": "stdout"
        }
      ]
    },
    {
      "metadata": {
        "id": "7UdUP7Bpph6W",
        "colab_type": "code",
        "colab": {
          "base_uri": "https://localhost:8080/",
          "height": 2885
        },
        "outputId": "9db99746-8be9-4e88-aa6a-195f61c30513"
      },
      "cell_type": "code",
      "source": [
        "model_fc.compile(optimizer=Adam(lr=learning_rate),\n",
        "              loss='binary_crossentropy',metrics=[\"accuracy\"])\n",
        "#sys.exit(0)\n",
        "y_true=np.array([np.ones((data_instances)),np.zeros((data_instances))])\n",
        "label=y_true.T\n",
        "\n",
        "print (label.shape)\n",
        "metric_a_p=np.reshape((metric_a_p),(len(metric_a_p),in_dim))\n",
        "print (metric_a_p.shape)\n",
        "metric_a_n=np.reshape((metric_a_n),(len(metric_a_n),in_dim))\n",
        "# Training the model\n",
        "model_fc.fit([metric_a_p,metric_a_n],[label] ,validation_split=0.2,batch_size=64, epochs=epoch)"
      ],
      "execution_count": 100,
      "outputs": [
        {
          "output_type": "stream",
          "text": [
            "(10000, 2)\n",
            "(10000, 8192)\n",
            "Train on 8000 samples, validate on 2000 samples\n",
            "Epoch 1/80\n",
            "8000/8000 [==============================] - 8s 988us/step - loss: 0.6422 - acc: 0.7496 - val_loss: 0.6066 - val_acc: 0.7380\n",
            "Epoch 2/80\n",
            "8000/8000 [==============================] - 4s 553us/step - loss: 0.4513 - acc: 0.9749 - val_loss: 0.4954 - val_acc: 1.0000\n",
            "Epoch 3/80\n",
            "8000/8000 [==============================] - 4s 550us/step - loss: 0.3421 - acc: 0.9954 - val_loss: 0.4298 - val_acc: 1.0000\n",
            "Epoch 4/80\n",
            "7488/8000 [===========================>..] - ETA: 0s - loss: 0.2687 - acc: 0.9991"
          ],
          "name": "stdout"
        },
        {
          "output_type": "stream",
          "text": [
            "8000/8000 [==============================] - 4s 545us/step - loss: 0.2670 - acc: 0.9991 - val_loss: 0.3738 - val_acc: 1.0000\n",
            "Epoch 5/80\n",
            "8000/8000 [==============================] - 4s 553us/step - loss: 0.2126 - acc: 1.0000 - val_loss: 0.3071 - val_acc: 1.0000\n",
            "Epoch 6/80\n",
            "8000/8000 [==============================] - 4s 541us/step - loss: 0.1718 - acc: 1.0000 - val_loss: 0.2959 - val_acc: 1.0000\n",
            "Epoch 7/80\n",
            "8000/8000 [==============================] - 4s 548us/step - loss: 0.1393 - acc: 1.0000 - val_loss: 0.2547 - val_acc: 1.0000\n",
            "Epoch 8/80\n",
            "6080/8000 [=====================>........] - ETA: 0s - loss: 0.1148 - acc: 1.0000"
          ],
          "name": "stdout"
        },
        {
          "output_type": "stream",
          "text": [
            "8000/8000 [==============================] - 4s 543us/step - loss: 0.1123 - acc: 1.0000 - val_loss: 0.2432 - val_acc: 1.0000\n",
            "Epoch 9/80\n",
            "8000/8000 [==============================] - 4s 544us/step - loss: 0.0919 - acc: 0.9999 - val_loss: 0.2235 - val_acc: 1.0000\n",
            "Epoch 10/80\n",
            "8000/8000 [==============================] - 4s 544us/step - loss: 0.0736 - acc: 1.0000 - val_loss: 0.1998 - val_acc: 0.9945\n",
            "Epoch 11/80\n",
            "8000/8000 [==============================] - 4s 547us/step - loss: 0.0578 - acc: 1.0000 - val_loss: 0.1950 - val_acc: 1.0000\n",
            "Epoch 12/80\n",
            "5568/8000 [===================>..........] - ETA: 1s - loss: 0.0475 - acc: 1.0000"
          ],
          "name": "stdout"
        },
        {
          "output_type": "stream",
          "text": [
            "8000/8000 [==============================] - 4s 541us/step - loss: 0.0461 - acc: 1.0000 - val_loss: 0.0232 - val_acc: 1.0000\n",
            "Epoch 13/80\n",
            "8000/8000 [==============================] - 4s 545us/step - loss: 0.0361 - acc: 1.0000 - val_loss: 0.0132 - val_acc: 1.0000\n",
            "Epoch 14/80\n",
            "8000/8000 [==============================] - 4s 540us/step - loss: 0.0287 - acc: 1.0000 - val_loss: 0.0282 - val_acc: 1.0000\n",
            "Epoch 15/80\n",
            "8000/8000 [==============================] - 4s 543us/step - loss: 0.0238 - acc: 1.0000 - val_loss: 0.1653 - val_acc: 1.0000\n",
            "Epoch 16/80\n",
            "5440/8000 [===================>..........] - ETA: 1s - loss: 0.0204 - acc: 1.0000"
          ],
          "name": "stdout"
        },
        {
          "output_type": "stream",
          "text": [
            "8000/8000 [==============================] - 4s 543us/step - loss: 0.0200 - acc: 1.0000 - val_loss: 0.0155 - val_acc: 1.0000\n",
            "Epoch 17/80\n",
            "8000/8000 [==============================] - 4s 544us/step - loss: 0.0169 - acc: 1.0000 - val_loss: 0.0459 - val_acc: 1.0000\n",
            "Epoch 18/80\n",
            "8000/8000 [==============================] - 4s 543us/step - loss: 0.0164 - acc: 1.0000 - val_loss: 0.1275 - val_acc: 1.0000\n",
            "Epoch 19/80\n",
            "8000/8000 [==============================] - 4s 543us/step - loss: 0.0133 - acc: 1.0000 - val_loss: 0.1579 - val_acc: 1.0000\n",
            "Epoch 20/80\n",
            "5184/8000 [==================>...........] - ETA: 1s - loss: 0.0112 - acc: 1.0000"
          ],
          "name": "stdout"
        },
        {
          "output_type": "stream",
          "text": [
            "8000/8000 [==============================] - 4s 546us/step - loss: 0.0111 - acc: 1.0000 - val_loss: 0.0677 - val_acc: 1.0000\n",
            "Epoch 21/80\n",
            "8000/8000 [==============================] - 4s 544us/step - loss: 0.0093 - acc: 1.0000 - val_loss: 2.6398e-04 - val_acc: 1.0000\n",
            "Epoch 22/80\n",
            "8000/8000 [==============================] - 4s 548us/step - loss: 0.0069 - acc: 1.0000 - val_loss: 0.0075 - val_acc: 1.0000\n",
            "Epoch 23/80\n",
            "8000/8000 [==============================] - 4s 546us/step - loss: 0.0039 - acc: 1.0000 - val_loss: 2.8439e-04 - val_acc: 1.0000\n",
            "Epoch 24/80\n",
            "4800/8000 [=================>............] - ETA: 1s - loss: 0.0037 - acc: 1.0000"
          ],
          "name": "stdout"
        },
        {
          "output_type": "stream",
          "text": [
            "8000/8000 [==============================] - 4s 549us/step - loss: 0.0034 - acc: 1.0000 - val_loss: 0.0106 - val_acc: 1.0000\n",
            "Epoch 25/80\n",
            "8000/8000 [==============================] - 4s 541us/step - loss: 0.0023 - acc: 1.0000 - val_loss: 0.0064 - val_acc: 1.0000\n",
            "Epoch 26/80\n",
            "8000/8000 [==============================] - 4s 541us/step - loss: 0.0019 - acc: 1.0000 - val_loss: 0.0447 - val_acc: 1.0000\n",
            "Epoch 27/80\n",
            "8000/8000 [==============================] - 4s 543us/step - loss: 0.0016 - acc: 1.0000 - val_loss: 0.0016 - val_acc: 1.0000\n",
            "Epoch 28/80\n",
            "5184/8000 [==================>...........] - ETA: 1s - loss: 0.0015 - acc: 1.0000\b\b\b\b\b\b\b\b\b\b\b\b\b\b\b\b\b\b\b\b\b\b\b\b\b\b\b\b\b\b\b\b\b\b\b\b\b\b\b\b\b\b\b\b\b\b\b\b\b\b\b\b\b\b\b\b\b\b\b\b\b\b\b\b\b\b\b\b\b\b\b\b\b\b\b\b\b\b\b\b\b"
          ],
          "name": "stdout"
        },
        {
          "output_type": "stream",
          "text": [
            "8000/8000 [==============================] - 4s 545us/step - loss: 0.0015 - acc: 1.0000 - val_loss: 0.0031 - val_acc: 1.0000\n",
            "Epoch 29/80\n",
            "8000/8000 [==============================] - 4s 550us/step - loss: 0.0018 - acc: 1.0000 - val_loss: 0.1476 - val_acc: 1.0000\n",
            "Epoch 30/80\n",
            "8000/8000 [==============================] - 4s 550us/step - loss: 0.0015 - acc: 1.0000 - val_loss: 0.0016 - val_acc: 1.0000\n",
            "Epoch 31/80\n",
            "8000/8000 [==============================] - 4s 544us/step - loss: 9.9096e-04 - acc: 1.0000 - val_loss: 7.5833e-04 - val_acc: 1.0000\n",
            "Epoch 32/80\n",
            "5568/8000 [===================>..........] - ETA: 1s - loss: 0.0012 - acc: 1.0000"
          ],
          "name": "stdout"
        },
        {
          "output_type": "stream",
          "text": [
            "8000/8000 [==============================] - 4s 546us/step - loss: 0.0011 - acc: 1.0000 - val_loss: 0.0110 - val_acc: 1.0000\n",
            "Epoch 33/80\n",
            "8000/8000 [==============================] - 4s 548us/step - loss: 9.2621e-04 - acc: 1.0000 - val_loss: 0.0024 - val_acc: 1.0000\n",
            "Epoch 34/80\n",
            "8000/8000 [==============================] - 4s 553us/step - loss: 7.5751e-04 - acc: 1.0000 - val_loss: 9.5641e-05 - val_acc: 1.0000\n",
            "Epoch 35/80\n",
            "8000/8000 [==============================] - 4s 549us/step - loss: 7.0995e-04 - acc: 1.0000 - val_loss: 0.0017 - val_acc: 1.0000\n",
            "Epoch 36/80\n",
            "4672/8000 [================>.............] - ETA: 1s - loss: 5.3279e-04 - acc: 1.0000"
          ],
          "name": "stdout"
        },
        {
          "output_type": "stream",
          "text": [
            "8000/8000 [==============================] - 4s 547us/step - loss: 4.7727e-04 - acc: 1.0000 - val_loss: 0.0064 - val_acc: 1.0000\n",
            "Epoch 37/80\n",
            "8000/8000 [==============================] - 4s 552us/step - loss: 3.7760e-04 - acc: 1.0000 - val_loss: 0.0012 - val_acc: 1.0000\n",
            "Epoch 38/80\n",
            "8000/8000 [==============================] - 4s 547us/step - loss: 4.7247e-04 - acc: 1.0000 - val_loss: 1.0099e-04 - val_acc: 1.0000\n",
            "Epoch 39/80\n",
            "8000/8000 [==============================] - 4s 549us/step - loss: 4.8216e-04 - acc: 1.0000 - val_loss: 6.7171e-05 - val_acc: 1.0000\n",
            "Epoch 40/80\n",
            "4672/8000 [================>.............] - ETA: 1s - loss: 4.1217e-04 - acc: 1.0000"
          ],
          "name": "stdout"
        },
        {
          "output_type": "stream",
          "text": [
            "8000/8000 [==============================] - 4s 546us/step - loss: 3.6591e-04 - acc: 1.0000 - val_loss: 7.0147e-04 - val_acc: 1.0000\n",
            "Epoch 41/80\n",
            "8000/8000 [==============================] - 4s 541us/step - loss: 3.5179e-04 - acc: 1.0000 - val_loss: 3.5260e-04 - val_acc: 1.0000\n",
            "Epoch 42/80\n",
            "8000/8000 [==============================] - 4s 548us/step - loss: 2.9624e-04 - acc: 1.0000 - val_loss: 4.8602e-04 - val_acc: 1.0000\n",
            "Epoch 43/80\n",
            "8000/8000 [==============================] - 4s 545us/step - loss: 2.3204e-04 - acc: 1.0000 - val_loss: 4.0140e-04 - val_acc: 1.0000\n",
            "Epoch 44/80\n",
            "4160/8000 [==============>...............] - ETA: 1s - loss: 1.9509e-04 - acc: 1.0000"
          ],
          "name": "stdout"
        },
        {
          "output_type": "stream",
          "text": [
            "8000/8000 [==============================] - 4s 546us/step - loss: 1.9196e-04 - acc: 1.0000 - val_loss: 3.3097e-04 - val_acc: 1.0000\n",
            "Epoch 45/80\n",
            "8000/8000 [==============================] - 4s 547us/step - loss: 4.2504e-04 - acc: 1.0000 - val_loss: 1.0960e-07 - val_acc: 1.0000\n",
            "Epoch 46/80\n",
            "8000/8000 [==============================] - 4s 550us/step - loss: 3.8251e-04 - acc: 1.0000 - val_loss: 7.0865e-04 - val_acc: 1.0000\n",
            "Epoch 47/80\n",
            "8000/8000 [==============================] - 4s 542us/step - loss: 2.3033e-04 - acc: 1.0000 - val_loss: 0.1519 - val_acc: 1.0000\n",
            "Epoch 48/80\n",
            "3648/8000 [============>.................] - ETA: 2s - loss: 1.8598e-04 - acc: 1.0000"
          ],
          "name": "stdout"
        },
        {
          "output_type": "stream",
          "text": [
            "8000/8000 [==============================] - 4s 548us/step - loss: 1.4891e-04 - acc: 1.0000 - val_loss: 0.0185 - val_acc: 1.0000\n",
            "Epoch 49/80\n",
            "8000/8000 [==============================] - 4s 549us/step - loss: 1.2166e-04 - acc: 1.0000 - val_loss: 0.1230 - val_acc: 1.0000\n",
            "Epoch 50/80\n",
            "8000/8000 [==============================] - 4s 550us/step - loss: 1.3796e-04 - acc: 1.0000 - val_loss: 2.3964e-04 - val_acc: 1.0000\n",
            "Epoch 51/80\n",
            "8000/8000 [==============================] - 4s 550us/step - loss: 1.0392e-04 - acc: 1.0000 - val_loss: 1.3668e-04 - val_acc: 1.0000\n",
            "Epoch 52/80\n",
            "4288/8000 [===============>..............] - ETA: 1s - loss: 1.0993e-04 - acc: 1.0000"
          ],
          "name": "stdout"
        },
        {
          "output_type": "stream",
          "text": [
            "8000/8000 [==============================] - 4s 539us/step - loss: 1.4708e-04 - acc: 1.0000 - val_loss: 1.5725e-05 - val_acc: 1.0000\n",
            "Epoch 53/80\n",
            "8000/8000 [==============================] - 4s 542us/step - loss: 8.8891e-05 - acc: 1.0000 - val_loss: 0.0032 - val_acc: 1.0000\n",
            "Epoch 54/80\n",
            "8000/8000 [==============================] - 4s 545us/step - loss: 2.6671e-04 - acc: 1.0000 - val_loss: 0.0062 - val_acc: 1.0000\n",
            "Epoch 55/80\n",
            "8000/8000 [==============================] - 4s 543us/step - loss: 3.8513e-04 - acc: 1.0000 - val_loss: 2.1464e-05 - val_acc: 1.0000\n",
            "Epoch 56/80\n",
            "4544/8000 [================>.............] - ETA: 1s - loss: 1.4396e-04 - acc: 1.0000"
          ],
          "name": "stdout"
        },
        {
          "output_type": "stream",
          "text": [
            "8000/8000 [==============================] - 4s 538us/step - loss: 1.4489e-04 - acc: 1.0000 - val_loss: 3.3176e-04 - val_acc: 1.0000\n",
            "Epoch 57/80\n",
            "8000/8000 [==============================] - 4s 547us/step - loss: 1.2737e-04 - acc: 1.0000 - val_loss: 8.1624e-05 - val_acc: 1.0000\n",
            "Epoch 58/80\n",
            "8000/8000 [==============================] - 4s 545us/step - loss: 1.2527e-04 - acc: 1.0000 - val_loss: 0.0092 - val_acc: 1.0000\n",
            "Epoch 59/80\n",
            "8000/8000 [==============================] - 4s 547us/step - loss: 9.1206e-05 - acc: 1.0000 - val_loss: 4.5400e-04 - val_acc: 1.0000\n",
            "Epoch 60/80\n",
            "4416/8000 [===============>..............] - ETA: 1s - loss: 3.5654e-04 - acc: 1.0000"
          ],
          "name": "stdout"
        },
        {
          "output_type": "stream",
          "text": [
            "8000/8000 [==============================] - 4s 546us/step - loss: 2.8871e-04 - acc: 1.0000 - val_loss: 0.0913 - val_acc: 1.0000\n",
            "Epoch 61/80\n",
            "8000/8000 [==============================] - 4s 543us/step - loss: 9.2903e-05 - acc: 1.0000 - val_loss: 2.4629e-04 - val_acc: 1.0000\n",
            "Epoch 62/80\n",
            "8000/8000 [==============================] - 4s 546us/step - loss: 2.7303e-04 - acc: 1.0000 - val_loss: 0.1205 - val_acc: 1.0000\n",
            "Epoch 63/80\n",
            "8000/8000 [==============================] - 4s 541us/step - loss: 1.6914e-04 - acc: 1.0000 - val_loss: 0.0013 - val_acc: 1.0000\n",
            "Epoch 64/80\n",
            "4544/8000 [================>.............] - ETA: 1s - loss: 1.8285e-04 - acc: 1.0000"
          ],
          "name": "stdout"
        },
        {
          "output_type": "stream",
          "text": [
            "8000/8000 [==============================] - 4s 543us/step - loss: 1.7561e-04 - acc: 1.0000 - val_loss: 5.1923e-06 - val_acc: 1.0000\n",
            "Epoch 65/80\n",
            "8000/8000 [==============================] - 4s 543us/step - loss: 5.1154e-05 - acc: 1.0000 - val_loss: 1.9009e-04 - val_acc: 1.0000\n",
            "Epoch 66/80\n",
            "8000/8000 [==============================] - 4s 544us/step - loss: 7.3233e-05 - acc: 1.0000 - val_loss: 7.6447e-05 - val_acc: 1.0000\n",
            "Epoch 67/80\n",
            "8000/8000 [==============================] - 4s 550us/step - loss: 4.5744e-05 - acc: 1.0000 - val_loss: 6.1520e-04 - val_acc: 1.0000\n",
            "Epoch 68/80\n",
            "3776/8000 [=============>................] - ETA: 2s - loss: 3.8097e-05 - acc: 1.0000"
          ],
          "name": "stdout"
        },
        {
          "output_type": "stream",
          "text": [
            "8000/8000 [==============================] - 4s 549us/step - loss: 4.1818e-05 - acc: 1.0000 - val_loss: 2.1391e-04 - val_acc: 1.0000\n",
            "Epoch 69/80\n",
            "8000/8000 [==============================] - 4s 548us/step - loss: 1.0820e-04 - acc: 1.0000 - val_loss: 2.9428e-04 - val_acc: 1.0000\n",
            "Epoch 70/80\n",
            "8000/8000 [==============================] - 4s 536us/step - loss: 2.1394e-05 - acc: 1.0000 - val_loss: 6.4654e-05 - val_acc: 1.0000\n",
            "Epoch 71/80\n",
            "8000/8000 [==============================] - 4s 537us/step - loss: 2.0691e-05 - acc: 1.0000 - val_loss: 9.3646e-05 - val_acc: 1.0000\n",
            "Epoch 72/80\n",
            "4288/8000 [===============>..............] - ETA: 1s - loss: 1.7566e-05 - acc: 1.0000"
          ],
          "name": "stdout"
        },
        {
          "output_type": "stream",
          "text": [
            "8000/8000 [==============================] - 4s 541us/step - loss: 1.6191e-05 - acc: 1.0000 - val_loss: 1.9598e-04 - val_acc: 1.0000\n",
            "Epoch 73/80\n",
            "8000/8000 [==============================] - 4s 545us/step - loss: 2.9991e-05 - acc: 1.0000 - val_loss: 0.0559 - val_acc: 1.0000\n",
            "Epoch 74/80\n",
            "8000/8000 [==============================] - 4s 546us/step - loss: 1.4423e-05 - acc: 1.0000 - val_loss: 4.2628e-04 - val_acc: 1.0000\n",
            "Epoch 75/80\n",
            "8000/8000 [==============================] - 4s 543us/step - loss: 2.4347e-05 - acc: 1.0000 - val_loss: 0.1182 - val_acc: 1.0000\n",
            "Epoch 76/80\n",
            "4160/8000 [==============>...............] - ETA: 1s - loss: 2.6386e-05 - acc: 1.0000"
          ],
          "name": "stdout"
        },
        {
          "output_type": "stream",
          "text": [
            "8000/8000 [==============================] - 4s 547us/step - loss: 1.8764e-05 - acc: 1.0000 - val_loss: 3.2759e-05 - val_acc: 1.0000\n",
            "Epoch 77/80\n",
            "8000/8000 [==============================] - 4s 542us/step - loss: 1.0799e-05 - acc: 1.0000 - val_loss: 9.9356e-05 - val_acc: 1.0000\n",
            "Epoch 78/80\n",
            "8000/8000 [==============================] - 4s 544us/step - loss: 1.3069e-05 - acc: 1.0000 - val_loss: 7.1281e-06 - val_acc: 1.0000\n",
            "Epoch 79/80\n",
            "8000/8000 [==============================] - 4s 540us/step - loss: 2.6478e-05 - acc: 1.0000 - val_loss: 2.1790e-04 - val_acc: 1.0000\n",
            "Epoch 80/80\n",
            "4672/8000 [================>.............] - ETA: 1s - loss: 7.9696e-06 - acc: 1.0000"
          ],
          "name": "stdout"
        },
        {
          "output_type": "stream",
          "text": [
            "8000/8000 [==============================] - 4s 542us/step - loss: 1.0663e-05 - acc: 1.0000 - val_loss: 0.0013 - val_acc: 1.0000\n"
          ],
          "name": "stdout"
        },
        {
          "output_type": "execute_result",
          "data": {
            "text/plain": [
              "<keras.callbacks.History at 0x7f6956a11e80>"
            ]
          },
          "metadata": {
            "tags": []
          },
          "execution_count": 100
        }
      ]
    },
    {
      "metadata": {
        "id": "XbwfBWmfph6k",
        "colab_type": "code",
        "colab": {}
      },
      "cell_type": "code",
      "source": [
        "\n",
        "model_fc.save_weights(FC_model)"
      ],
      "execution_count": 0,
      "outputs": []
    },
    {
      "metadata": {
        "id": "oCLtngZEph6r",
        "colab_type": "code",
        "colab": {}
      },
      "cell_type": "code",
      "source": [
        "model_fc.load_weights(FC_model,'r')"
      ],
      "execution_count": 0,
      "outputs": []
    },
    {
      "metadata": {
        "id": "SSvuPmGqph6z",
        "colab_type": "code",
        "colab": {
          "base_uri": "https://localhost:8080/",
          "height": 34
        },
        "outputId": "f943fe60-5015-4989-e2ad-6d4b845d1ca5"
      },
      "cell_type": "code",
      "source": [
        "test_x=load_data(path+\"test_triplet_dataset\")\n",
        "#x=np.array(x,dtype=np.uint8)\n",
        "#data_instances=len(x)\n",
        "print (test_x.shape)\n",
        "test_instances=len(test_x)"
      ],
      "execution_count": 107,
      "outputs": [
        {
          "output_type": "stream",
          "text": [
            "(858, 3, 64, 64, 3)\n"
          ],
          "name": "stdout"
        }
      ]
    },
    {
      "metadata": {
        "id": "-tjTXLrwph7C",
        "colab_type": "code",
        "colab": {
          "base_uri": "https://localhost:8080/",
          "height": 52
        },
        "outputId": "cd2445d4-cf0d-4c94-f5ad-822bc72ad457"
      },
      "cell_type": "code",
      "source": [
        "in1=np.reshape(test_x[:,0,:,:,0],(test_instances,64,64,1))\n",
        "in2=np.reshape(test_x[:,1,:,:,0],(test_instances,64,64,1))\n",
        "in3=np.reshape(test_x[:,2,:,:,0],(test_instances,64,64,1))\n",
        "pred=model.predict([in1,in2,in3])\n",
        "print (pred.shape)\n",
        "#metric_a_p=np.array((np.concatenate((pred[:,0:4096],pred[:,0:4096]))))\n",
        "#metric_a_n=np.array((np.concatenate((pred[:,4096:8192],pred[:,8192:12288]))))\n",
        "#print (metric_a_p.shape,metric_a_n.shape)\n",
        "a=pred[:,0:4096]\n",
        "p=pred[:,4096:8192]\n",
        "n=pred[:,8192:12288]\n",
        "metric_a_p=np.array([np.append(a[d,:], p[d,:]) for d in range(len(a))]) \n",
        "#metric_a_p=np.array((np.concatenate((pred[:,0:4096],pred[:,4096:8192]))))\n",
        "#metric_a_n=np.array((np.concatenate((pred[:,0:4096],pred[:,8192:12288]))))\n",
        "metric_a_n=np.array([np.append(a[d,:], n[d,:]) for d in range(len(a))])\n",
        "print (metric_a_p.shape,metric_a_n.shape)"
      ],
      "execution_count": 108,
      "outputs": [
        {
          "output_type": "stream",
          "text": [
            "(858, 12288)\n",
            "(858, 8192) (858, 8192)\n"
          ],
          "name": "stdout"
        }
      ]
    },
    {
      "metadata": {
        "id": "QSUsxEhAph7U",
        "colab_type": "code",
        "colab": {
          "base_uri": "https://localhost:8080/",
          "height": 52
        },
        "outputId": "d086bb04-2765-48b8-a452-4f82cc8a8f17"
      },
      "cell_type": "code",
      "source": [
        "model_fc.inputs"
      ],
      "execution_count": 109,
      "outputs": [
        {
          "output_type": "execute_result",
          "data": {
            "text/plain": [
              "[<tf.Tensor 'input_18:0' shape=(?, 8192) dtype=float32>,\n",
              " <tf.Tensor 'input_19:0' shape=(?, 8192) dtype=float32>]"
            ]
          },
          "metadata": {
            "tags": []
          },
          "execution_count": 109
        }
      ]
    },
    {
      "metadata": {
        "id": "44c5XBqCph77",
        "colab_type": "code",
        "colab": {}
      },
      "cell_type": "code",
      "source": [
        "#with open(path+name+\"FC_10000_triplet_weights_nd.json\", 'r') as f:\n",
        "#    model_fc=model_from_json(f.read())\n",
        "#model_fc.load_weights(path+name+\"FC_10000_triplet_weights_nd.h5\",'r')\n",
        "#model_fc.inputs"
      ],
      "execution_count": 0,
      "outputs": []
    },
    {
      "metadata": {
        "id": "8HZr1WL3ph8L",
        "colab_type": "code",
        "colab": {
          "base_uri": "https://localhost:8080/",
          "height": 191
        },
        "outputId": "e9d7c2a2-9294-4388-8b43-00ae3fa3ac46"
      },
      "cell_type": "code",
      "source": [
        "\n",
        "pred=model_fc.predict([metric_a_p,metric_a_n])\n",
        "\n",
        "print (pred)\n",
        "#print (pred[:,1])\n",
        "print(label[1715,0])\n",
        "print(len(pred))\n",
        "count_positive = 0;\n",
        "count_negative = 0;\n",
        "for l in range(0,858):\n",
        "  #print(label[l])\n",
        "  if pred[l,0] > pred[l,1]:\n",
        "     count_positive = count_positive + 1;\n",
        "\n",
        "      \n",
        "print(count_positive)\n",
        "\n",
        "  \n",
        "#print(metric_a_p)\n",
        "#print(metric_a_n)"
      ],
      "execution_count": 112,
      "outputs": [
        {
          "output_type": "stream",
          "text": [
            "[[9.9999630e-01 3.7288291e-06]\n",
            " [9.9999964e-01 4.1235151e-07]\n",
            " [9.9999917e-01 8.1361310e-07]\n",
            " ...\n",
            " [9.9999535e-01 4.6865948e-06]\n",
            " [9.9999750e-01 2.5115605e-06]\n",
            " [9.9998617e-01 1.3826318e-05]]\n",
            "1.0\n",
            "858\n",
            "858\n"
          ],
          "name": "stdout"
        }
      ]
    },
    {
      "metadata": {
        "id": "EX9a-dYVvt-_",
        "colab_type": "code",
        "colab": {}
      },
      "cell_type": "code",
      "source": [
        ""
      ],
      "execution_count": 0,
      "outputs": []
    },
    {
      "metadata": {
        "id": "KDE27AwLtE5f",
        "colab_type": "code",
        "colab": {
          "base_uri": "https://localhost:8080/",
          "height": 34
        },
        "outputId": "33c96322-219e-4c07-a72b-f66fae1aa1b8"
      },
      "cell_type": "code",
      "source": [
        "from sklearn.metrics import precision_recall_fscore_support\n",
        "score=precision_recall_fscore_support((label[0:858,0]), pred[0:858,0].round(), average='macro')\n",
        "#precision_recall_fscore_support((label[858:1715,1]), pred[858:1715,1].round(), average='macro')\n",
        "#print(label[858:1715,1])\n",
        "#print( pred[858:1715,1])\n",
        "#print( pred[0:858,0])\n",
        "print (score)"
      ],
      "execution_count": 115,
      "outputs": [
        {
          "output_type": "stream",
          "text": [
            "(1.0, 1.0, 1.0, None)\n"
          ],
          "name": "stdout"
        }
      ]
    },
    {
      "metadata": {
        "id": "qOE5befiIMEA",
        "colab_type": "text"
      },
      "cell_type": "markdown",
      "source": [
        ""
      ]
    },
    {
      "metadata": {
        "id": "HXvvdPAc1Zuz",
        "colab_type": "code",
        "colab": {
          "base_uri": "https://localhost:8080/",
          "height": 34
        },
        "outputId": "92974337-f4bf-49ee-fed1-f1abfe245328"
      },
      "cell_type": "code",
      "source": [
        "test_x=load_data(path+\"triplet_dataset\")\n",
        "#x=np.array(x,dtype=np.uint8)\n",
        "#data_instances=len(x)\n",
        "print (test_x.shape)\n",
        "test_instances=len(test_x)"
      ],
      "execution_count": 116,
      "outputs": [
        {
          "output_type": "stream",
          "text": [
            "(468, 3, 64, 64, 3)\n"
          ],
          "name": "stdout"
        }
      ]
    },
    {
      "metadata": {
        "id": "A6cRReVF4GIL",
        "colab_type": "code",
        "colab": {
          "base_uri": "https://localhost:8080/",
          "height": 52
        },
        "outputId": "fc4aec10-9566-4d49-871a-c6e2b142087f"
      },
      "cell_type": "code",
      "source": [
        "in1=np.reshape(test_x[:,0,:,:,0],(test_instances,64,64,1))\n",
        "in2=np.reshape(test_x[:,1,:,:,0],(test_instances,64,64,1))\n",
        "in3=np.reshape(test_x[:,2,:,:,0],(test_instances,64,64,1))\n",
        "pred=model.predict([in1,in2,in3])\n",
        "print (pred.shape)\n",
        "#metric_a_p=np.array((np.concatenate((pred[:,0:4096],pred[:,0:4096]))))\n",
        "#metric_a_n=np.array((np.concatenate((pred[:,4096:8192],pred[:,8192:12288]))))\n",
        "#print (metric_a_p.shape,metric_a_n.shape)\n",
        "a=pred[:,0:4096]\n",
        "p=pred[:,4096:8192]\n",
        "n=pred[:,8192:12288]\n",
        "metric_a_p=np.array([np.append(a[d,:], p[d,:]) for d in range(len(a))]) \n",
        "#metric_a_p=np.array((np.concatenate((pred[:,0:4096],pred[:,4096:8192]))))\n",
        "#metric_a_n=np.array((np.concatenate((pred[:,0:4096],pred[:,8192:12288]))))\n",
        "metric_a_n=np.array([np.append(a[d,:], n[d,:]) for d in range(len(a))])\n",
        "print (metric_a_p.shape,metric_a_n.shape)"
      ],
      "execution_count": 117,
      "outputs": [
        {
          "output_type": "stream",
          "text": [
            "(468, 12288)\n",
            "(468, 8192) (468, 8192)\n"
          ],
          "name": "stdout"
        }
      ]
    },
    {
      "metadata": {
        "id": "ASlHngCw4PXO",
        "colab_type": "code",
        "colab": {
          "base_uri": "https://localhost:8080/",
          "height": 8197
        },
        "outputId": "c309eabc-6d9b-45e5-f807-145daea19062"
      },
      "cell_type": "code",
      "source": [
        "pred=model_fc.predict([metric_a_p,metric_a_n])\n",
        "\n",
        "print (pred)\n",
        "#print (pred[:,1])\n",
        "print(label[1715,0])\n",
        "print(len(pred))\n",
        "count_positive = 0;\n",
        "count_negative = 0;\n",
        "for l in range(0,468):\n",
        "  #print(label[l])\n",
        "  if pred[l,0] > pred[l,1]:\n",
        "     count_positive = count_positive + 1;\n",
        "\n",
        "      \n",
        "print(count_positive)\n"
      ],
      "execution_count": 120,
      "outputs": [
        {
          "output_type": "stream",
          "text": [
            "[[9.99994755e-01 5.27340899e-06]\n",
            " [9.99999523e-01 4.82669179e-07]\n",
            " [9.99999404e-01 5.38254994e-07]\n",
            " [9.99999046e-01 9.10261917e-07]\n",
            " [9.99999046e-01 9.49540492e-07]\n",
            " [9.99967456e-01 3.25420224e-05]\n",
            " [9.99999523e-01 4.39139711e-07]\n",
            " [9.99999404e-01 5.57048509e-07]\n",
            " [9.99999523e-01 4.34154828e-07]\n",
            " [9.99999523e-01 4.64303241e-07]\n",
            " [9.99999523e-01 4.55669436e-07]\n",
            " [9.99997973e-01 1.99425608e-06]\n",
            " [9.99978304e-01 2.17291217e-05]\n",
            " [9.99998689e-01 1.35027665e-06]\n",
            " [9.99999523e-01 4.82977669e-07]\n",
            " [9.99999523e-01 4.86321198e-07]\n",
            " [9.99999642e-01 3.83396156e-07]\n",
            " [9.99996543e-01 3.41505779e-06]\n",
            " [9.99995589e-01 4.39857013e-06]\n",
            " [9.99999166e-01 8.31784234e-07]\n",
            " [9.99996781e-01 3.20737968e-06]\n",
            " [9.99991894e-01 8.12149483e-06]\n",
            " [9.99993324e-01 6.63636001e-06]\n",
            " [9.99998450e-01 1.49395851e-06]\n",
            " [9.99999404e-01 5.76920627e-07]\n",
            " [9.99980211e-01 1.98375656e-05]\n",
            " [9.99993682e-01 6.37045787e-06]\n",
            " [9.99983788e-01 1.61837233e-05]\n",
            " [9.99985218e-01 1.47741075e-05]\n",
            " [9.99994040e-01 6.00252724e-06]\n",
            " [9.99989986e-01 1.00722318e-05]\n",
            " [9.99989629e-01 1.04298624e-05]\n",
            " [9.99975204e-01 2.47947319e-05]\n",
            " [9.99990821e-01 9.17481520e-06]\n",
            " [9.99989271e-01 1.07002434e-05]\n",
            " [9.99999523e-01 4.23800856e-07]\n",
            " [9.99990106e-01 9.86472878e-06]\n",
            " [9.99995112e-01 4.92225536e-06]\n",
            " [9.99999285e-01 7.32798583e-07]\n",
            " [9.99990225e-01 9.82166057e-06]\n",
            " [9.99998927e-01 1.04838045e-06]\n",
            " [9.99992251e-01 7.73826469e-06]\n",
            " [9.99988914e-01 1.10434603e-05]\n",
            " [9.99995351e-01 4.67975269e-06]\n",
            " [9.99999642e-01 3.45334570e-07]\n",
            " [9.99999523e-01 4.82337384e-07]\n",
            " [9.99990463e-01 9.56887106e-06]\n",
            " [9.99995589e-01 4.39503947e-06]\n",
            " [9.99999523e-01 5.36209313e-07]\n",
            " [9.99999404e-01 6.52686424e-07]\n",
            " [9.99996543e-01 3.46470438e-06]\n",
            " [9.99999404e-01 5.49768572e-07]\n",
            " [9.99981880e-01 1.81753494e-05]\n",
            " [9.99998450e-01 1.58277703e-06]\n",
            " [9.99998331e-01 1.64767607e-06]\n",
            " [9.99999523e-01 4.90133573e-07]\n",
            " [9.99999523e-01 4.94637732e-07]\n",
            " [9.99991655e-01 8.28884095e-06]\n",
            " [9.99998927e-01 1.12515784e-06]\n",
            " [9.99989152e-01 1.08546392e-05]\n",
            " [9.99999046e-01 9.99896770e-07]\n",
            " [9.99998927e-01 1.06856760e-06]\n",
            " [9.99992609e-01 7.35183130e-06]\n",
            " [9.99999285e-01 6.81994720e-07]\n",
            " [9.99999523e-01 4.79884534e-07]\n",
            " [9.99999285e-01 6.78920742e-07]\n",
            " [9.99999404e-01 6.06645870e-07]\n",
            " [9.99999523e-01 5.26394047e-07]\n",
            " [9.99998331e-01 1.72792591e-06]\n",
            " [9.99999285e-01 7.08505922e-07]\n",
            " [9.99992371e-01 7.58833448e-06]\n",
            " [9.99995232e-01 4.75730212e-06]\n",
            " [9.99996901e-01 3.07414666e-06]\n",
            " [9.99995112e-01 4.86624140e-06]\n",
            " [9.99998450e-01 1.57792556e-06]\n",
            " [9.99999404e-01 6.32839487e-07]\n",
            " [9.99999166e-01 8.25590689e-07]\n",
            " [9.99999523e-01 5.00755789e-07]\n",
            " [9.99992132e-01 7.81668496e-06]\n",
            " [9.99999285e-01 6.75043225e-07]\n",
            " [9.99999523e-01 5.30670377e-07]\n",
            " [9.99412775e-01 5.87281596e-04]\n",
            " [9.99998927e-01 1.05900801e-06]\n",
            " [9.99997735e-01 2.24704172e-06]\n",
            " [9.99999404e-01 5.37227834e-07]\n",
            " [9.99999285e-01 7.61976764e-07]\n",
            " [9.99993443e-01 6.49858703e-06]\n",
            " [9.99999404e-01 5.71519479e-07]\n",
            " [9.99997139e-01 2.83762279e-06]\n",
            " [9.99999166e-01 8.20646051e-07]\n",
            " [9.99999285e-01 7.33248783e-07]\n",
            " [9.99999285e-01 7.20479818e-07]\n",
            " [9.99997497e-01 2.52652217e-06]\n",
            " [9.99999642e-01 3.85883936e-07]\n",
            " [9.99999881e-01 6.91175330e-08]\n",
            " [9.99996781e-01 3.20335675e-06]\n",
            " [9.99999166e-01 8.51714901e-07]\n",
            " [9.99998093e-01 1.90812625e-06]\n",
            " [9.99996543e-01 3.46516686e-06]\n",
            " [9.99997258e-01 2.71867066e-06]\n",
            " [9.99999285e-01 7.22819721e-07]\n",
            " [9.99998808e-01 1.22321808e-06]\n",
            " [9.99999166e-01 8.15401279e-07]\n",
            " [9.99998689e-01 1.30165938e-06]\n",
            " [9.99705493e-01 2.94514844e-04]\n",
            " [9.99999404e-01 5.81868164e-07]\n",
            " [9.99999285e-01 7.45866203e-07]\n",
            " [9.99999166e-01 8.89598198e-07]\n",
            " [9.99998689e-01 1.28810893e-06]\n",
            " [9.99997973e-01 2.00299519e-06]\n",
            " [9.99994159e-01 5.85999715e-06]\n",
            " [9.99999046e-01 9.24126539e-07]\n",
            " [9.99999166e-01 7.81383790e-07]\n",
            " [9.99993801e-01 6.24410995e-06]\n",
            " [9.99990582e-01 9.38513585e-06]\n",
            " [9.99997258e-01 2.73936621e-06]\n",
            " [9.99998689e-01 1.36580900e-06]\n",
            " [9.99998331e-01 1.71913541e-06]\n",
            " [9.99998689e-01 1.27228634e-06]\n",
            " [9.99999404e-01 6.43177486e-07]\n",
            " [9.99996901e-01 3.04479431e-06]\n",
            " [9.99995947e-01 4.07089328e-06]\n",
            " [9.99999642e-01 4.14614163e-07]\n",
            " [9.99998569e-01 1.46521108e-06]\n",
            " [9.99999285e-01 6.76453169e-07]\n",
            " [9.99998093e-01 1.91298750e-06]\n",
            " [9.99999046e-01 9.25476797e-07]\n",
            " [9.99998927e-01 1.02504350e-06]\n",
            " [9.99997854e-01 2.08720712e-06]\n",
            " [9.99998927e-01 1.12597149e-06]\n",
            " [9.99998450e-01 1.60674892e-06]\n",
            " [9.99997497e-01 2.46345735e-06]\n",
            " [9.99997377e-01 2.56437124e-06]\n",
            " [9.99998689e-01 1.36682149e-06]\n",
            " [9.99998927e-01 1.02158788e-06]\n",
            " [9.99993205e-01 6.83408325e-06]\n",
            " [9.99999166e-01 8.81672406e-07]\n",
            " [9.99999285e-01 7.34539412e-07]\n",
            " [9.99997258e-01 2.76987089e-06]\n",
            " [9.99998808e-01 1.18640708e-06]\n",
            " [9.99997020e-01 2.99991484e-06]\n",
            " [9.99999404e-01 5.93233551e-07]\n",
            " [9.99997020e-01 2.97043266e-06]\n",
            " [9.99999285e-01 6.71397117e-07]\n",
            " [9.99998569e-01 1.48640947e-06]\n",
            " [9.99997973e-01 2.00638283e-06]\n",
            " [9.99998212e-01 1.74702552e-06]\n",
            " [9.99997973e-01 2.02015303e-06]\n",
            " [9.99999404e-01 6.14483838e-07]\n",
            " [9.99998450e-01 1.56467900e-06]\n",
            " [9.99999523e-01 5.10251596e-07]\n",
            " [9.99999523e-01 5.14340854e-07]\n",
            " [9.99999046e-01 9.45264219e-07]\n",
            " [9.99999166e-01 7.97367477e-07]\n",
            " [9.99998450e-01 1.53849453e-06]\n",
            " [9.99997616e-01 2.42604256e-06]\n",
            " [9.99997616e-01 2.39208180e-06]\n",
            " [9.99999881e-01 6.66258089e-08]\n",
            " [9.99998212e-01 1.82720919e-06]\n",
            " [9.99997616e-01 2.35110474e-06]\n",
            " [9.99999166e-01 8.15735746e-07]\n",
            " [9.99998808e-01 1.23944540e-06]\n",
            " [9.99996305e-01 3.71038323e-06]\n",
            " [9.99999166e-01 8.70057079e-07]\n",
            " [9.99996305e-01 3.64991683e-06]\n",
            " [9.99997020e-01 2.97075280e-06]\n",
            " [9.99998689e-01 1.27702833e-06]\n",
            " [9.99997020e-01 2.93289622e-06]\n",
            " [9.99998331e-01 1.68636359e-06]\n",
            " [9.99998808e-01 1.21474466e-06]\n",
            " [9.99999642e-01 3.95426184e-07]\n",
            " [9.99997973e-01 2.07837434e-06]\n",
            " [9.99985099e-01 1.48621730e-05]\n",
            " [9.99999642e-01 3.95644946e-07]\n",
            " [9.99999762e-01 2.91416939e-07]\n",
            " [9.99998689e-01 1.33920162e-06]\n",
            " [9.99998808e-01 1.21646258e-06]\n",
            " [9.99999762e-01 1.84269098e-07]\n",
            " [9.99990344e-01 9.62830563e-06]\n",
            " [9.99976754e-01 2.31989798e-05]\n",
            " [9.99998450e-01 1.53778456e-06]\n",
            " [9.99999523e-01 4.66102250e-07]\n",
            " [9.99990463e-01 9.53163726e-06]\n",
            " [9.99999642e-01 3.07513289e-07]\n",
            " [9.99999762e-01 2.50394294e-07]\n",
            " [9.99998927e-01 1.10455358e-06]\n",
            " [9.99997377e-01 2.64358414e-06]\n",
            " [9.99999642e-01 3.55618425e-07]\n",
            " [9.99999523e-01 5.03538104e-07]\n",
            " [9.99998927e-01 1.07542030e-06]\n",
            " [9.99998808e-01 1.15353305e-06]\n",
            " [9.99999166e-01 7.98066651e-07]\n",
            " [9.99990463e-01 9.48573415e-06]\n",
            " [9.99991179e-01 8.81980304e-06]\n",
            " [9.99999285e-01 7.31629655e-07]\n",
            " [9.99999166e-01 8.42796226e-07]\n",
            " [9.99998689e-01 1.29162947e-06]\n",
            " [9.99999523e-01 5.21842537e-07]\n",
            " [9.99999285e-01 7.26753399e-07]\n",
            " [9.99995112e-01 4.88781734e-06]\n",
            " [9.99988198e-01 1.18406997e-05]\n",
            " [9.99999404e-01 6.18100216e-07]\n",
            " [9.99998569e-01 1.38980033e-06]\n",
            " [9.99999523e-01 4.44415747e-07]\n",
            " [9.99999285e-01 7.13546797e-07]\n",
            " [9.99998569e-01 1.37675352e-06]\n",
            " [9.99992490e-01 7.55004066e-06]\n",
            " [9.99999046e-01 9.72505177e-07]\n",
            " [9.99999166e-01 8.42315671e-07]\n",
            " [9.99999523e-01 4.71704055e-07]\n",
            " [9.99999642e-01 4.04084489e-07]\n",
            " [9.99999046e-01 9.80860136e-07]\n",
            " [9.99999523e-01 4.50335818e-07]\n",
            " [9.99999285e-01 7.34441983e-07]\n",
            " [9.99999523e-01 4.88155706e-07]\n",
            " [9.99999523e-01 4.97134749e-07]\n",
            " [9.99998808e-01 1.16717615e-06]\n",
            " [9.99998927e-01 1.07390144e-06]\n",
            " [9.99999404e-01 5.59228226e-07]\n",
            " [9.99998927e-01 1.07933806e-06]\n",
            " [9.99998808e-01 1.24782582e-06]\n",
            " [9.99998093e-01 1.86684383e-06]\n",
            " [9.99998808e-01 1.23426594e-06]\n",
            " [9.99999523e-01 5.04846469e-07]\n",
            " [9.99999523e-01 4.36975284e-07]\n",
            " [9.99999285e-01 7.52970266e-07]\n",
            " [9.99997497e-01 2.47046341e-06]\n",
            " [9.99999523e-01 4.23345199e-07]\n",
            " [9.99999166e-01 8.39380732e-07]\n",
            " [9.99999404e-01 6.20641231e-07]\n",
            " [9.99996066e-01 3.91561252e-06]\n",
            " [9.99998808e-01 1.18905768e-06]\n",
            " [9.99999166e-01 7.84718054e-07]\n",
            " [9.99999404e-01 6.04799652e-07]\n",
            " [9.99999404e-01 5.65060986e-07]\n",
            " [9.99999404e-01 5.88351554e-07]\n",
            " [9.99995232e-01 4.78765105e-06]\n",
            " [9.99999523e-01 4.43617097e-07]\n",
            " [9.99999642e-01 4.07169068e-07]\n",
            " [9.99999285e-01 6.81921222e-07]\n",
            " [9.99999404e-01 6.10135828e-07]\n",
            " [9.99997377e-01 2.62871617e-06]\n",
            " [9.99991298e-01 8.65709444e-06]\n",
            " [9.99999523e-01 5.32525348e-07]\n",
            " [9.99997854e-01 2.11512020e-06]\n",
            " [9.99995708e-01 4.30125328e-06]\n",
            " [9.99999285e-01 6.56312238e-07]\n",
            " [9.99999166e-01 8.63790206e-07]\n",
            " [9.99999642e-01 4.04506665e-07]\n",
            " [9.99999523e-01 5.27034501e-07]\n",
            " [9.99998093e-01 1.92134507e-06]\n",
            " [9.99995828e-01 4.22298626e-06]\n",
            " [9.99998927e-01 1.07518042e-06]\n",
            " [9.99999046e-01 9.92001105e-07]\n",
            " [9.99999285e-01 7.60732291e-07]\n",
            " [9.99684691e-01 3.15345213e-04]\n",
            " [9.99999404e-01 6.33053730e-07]\n",
            " [9.99996543e-01 3.42512953e-06]\n",
            " [9.99998808e-01 1.16470892e-06]\n",
            " [9.99999404e-01 5.52631889e-07]\n",
            " [9.99999285e-01 7.36393815e-07]\n",
            " [9.99999285e-01 6.91090236e-07]\n",
            " [9.99999285e-01 7.29263888e-07]\n",
            " [9.99999523e-01 4.67049574e-07]\n",
            " [9.99998808e-01 1.15175442e-06]\n",
            " [9.99994636e-01 5.35617710e-06]\n",
            " [9.99999404e-01 5.52136669e-07]\n",
            " [9.99999523e-01 5.34051082e-07]\n",
            " [9.99998808e-01 1.24318149e-06]\n",
            " [9.99999523e-01 4.90719174e-07]\n",
            " [9.99992013e-01 7.94816606e-06]\n",
            " [9.99998212e-01 1.80775851e-06]\n",
            " [9.99999404e-01 6.46893568e-07]\n",
            " [9.99999881e-01 1.52059954e-07]\n",
            " [9.99996305e-01 3.63960726e-06]\n",
            " [9.99999285e-01 7.59204511e-07]\n",
            " [9.99999642e-01 3.12783982e-07]\n",
            " [9.99998450e-01 1.52621908e-06]\n",
            " [9.99999404e-01 5.96873463e-07]\n",
            " [9.99988556e-01 1.14320974e-05]\n",
            " [9.99998927e-01 1.13240480e-06]\n",
            " [9.99999285e-01 7.19213233e-07]\n",
            " [9.99999166e-01 8.76170418e-07]\n",
            " [9.99997020e-01 2.93798257e-06]\n",
            " [9.99999166e-01 8.58818282e-07]\n",
            " [9.99999523e-01 4.54802887e-07]\n",
            " [9.99999285e-01 7.61232286e-07]\n",
            " [9.99998808e-01 1.18269622e-06]\n",
            " [9.99998808e-01 1.14574868e-06]\n",
            " [9.99995947e-01 4.10220719e-06]\n",
            " [9.99999642e-01 3.97088883e-07]\n",
            " [9.99999523e-01 5.31583566e-07]\n",
            " [9.99999046e-01 1.01074397e-06]\n",
            " [9.99999404e-01 6.36959783e-07]\n",
            " [9.99998689e-01 1.27571741e-06]\n",
            " [9.99994516e-01 5.44419845e-06]\n",
            " [9.99999762e-01 2.56280913e-07]\n",
            " [9.99999285e-01 7.58194460e-07]\n",
            " [9.99999285e-01 6.63604851e-07]\n",
            " [9.99998450e-01 1.49610582e-06]\n",
            " [9.99999523e-01 4.73047834e-07]\n",
            " [9.99996543e-01 3.48349658e-06]\n",
            " [9.99997735e-01 2.31686749e-06]\n",
            " [9.99999404e-01 6.24725089e-07]\n",
            " [9.99999285e-01 7.31322700e-07]\n",
            " [9.99995589e-01 4.36161918e-06]\n",
            " [9.99994040e-01 5.93537425e-06]\n",
            " [9.99998689e-01 1.34753157e-06]\n",
            " [9.99998569e-01 1.38971279e-06]\n",
            " [9.99994636e-01 5.31644082e-06]\n",
            " [9.99998927e-01 1.01786907e-06]\n",
            " [9.99958754e-01 4.12103909e-05]\n",
            " [9.99998808e-01 1.19804645e-06]\n",
            " [9.99999404e-01 5.67709890e-07]\n",
            " [9.99999046e-01 9.09233790e-07]\n",
            " [9.99998927e-01 1.01596629e-06]\n",
            " [9.99997854e-01 2.08996789e-06]\n",
            " [9.99999523e-01 4.77497395e-07]\n",
            " [9.99996066e-01 3.87795944e-06]\n",
            " [9.99992251e-01 7.71345003e-06]\n",
            " [9.99999285e-01 7.36289223e-07]\n",
            " [9.99999404e-01 6.04326374e-07]\n",
            " [9.99996305e-01 3.75148625e-06]\n",
            " [9.99999523e-01 4.96561881e-07]\n",
            " [9.99998927e-01 1.04097217e-06]\n",
            " [9.99983668e-01 1.63447676e-05]\n",
            " [9.99999523e-01 4.81611607e-07]\n",
            " [9.99981523e-01 1.85057361e-05]\n",
            " [9.99984622e-01 1.53983055e-05]\n",
            " [9.99997258e-01 2.77868094e-06]\n",
            " [9.99997973e-01 2.00923409e-06]\n",
            " [9.99999523e-01 4.59484284e-07]\n",
            " [9.99998927e-01 1.05179743e-06]\n",
            " [9.99999762e-01 2.14581050e-07]\n",
            " [9.99986172e-01 1.38381374e-05]\n",
            " [9.99999166e-01 8.39455197e-07]\n",
            " [9.99999523e-01 5.35986942e-07]\n",
            " [9.99998450e-01 1.50144297e-06]\n",
            " [9.99999046e-01 9.23724770e-07]\n",
            " [9.99996662e-01 3.31114029e-06]\n",
            " [9.99998927e-01 1.07203709e-06]\n",
            " [9.99998927e-01 1.06440473e-06]\n",
            " [9.99987960e-01 1.20543755e-05]\n",
            " [9.99999642e-01 4.02665705e-07]\n",
            " [9.99995828e-01 4.11600467e-06]\n",
            " [9.99999046e-01 1.00546401e-06]\n",
            " [9.99998808e-01 1.19402455e-06]\n",
            " [9.99938846e-01 6.11628202e-05]\n",
            " [9.99987006e-01 1.29549608e-05]\n",
            " [9.99989510e-01 1.05100598e-05]\n",
            " [9.99999166e-01 8.30081262e-07]\n",
            " [9.99999285e-01 7.57691339e-07]\n",
            " [9.99997973e-01 1.97366103e-06]\n",
            " [9.99997258e-01 2.70496616e-06]\n",
            " [9.99999404e-01 6.19114928e-07]\n",
            " [9.99999523e-01 4.35593932e-07]\n",
            " [9.99998689e-01 1.26323425e-06]\n",
            " [9.99999285e-01 6.91649348e-07]\n",
            " [9.99999523e-01 4.80397432e-07]\n",
            " [9.99999046e-01 9.13005749e-07]\n",
            " [9.99999523e-01 4.86955173e-07]\n",
            " [9.99999642e-01 3.54545989e-07]\n",
            " [9.99997020e-01 2.97983252e-06]\n",
            " [9.99997020e-01 3.03069191e-06]\n",
            " [9.99998927e-01 1.10537769e-06]\n",
            " [9.99994278e-01 5.68812811e-06]\n",
            " [9.99999285e-01 7.61244678e-07]\n",
            " [9.99999285e-01 6.73356055e-07]\n",
            " [9.99998927e-01 1.05646802e-06]\n",
            " [9.99997973e-01 2.04473827e-06]\n",
            " [9.99999285e-01 7.61607737e-07]\n",
            " [9.99999404e-01 6.43292765e-07]\n",
            " [9.99999166e-01 8.42283555e-07]\n",
            " [9.99988198e-01 1.18500084e-05]\n",
            " [9.99998331e-01 1.71007662e-06]\n",
            " [9.99999166e-01 8.72368503e-07]\n",
            " [9.99999166e-01 7.91398520e-07]\n",
            " [9.99989390e-01 1.05889940e-05]\n",
            " [9.99998808e-01 1.18969854e-06]\n",
            " [9.99985218e-01 1.47652891e-05]\n",
            " [9.99999642e-01 4.13379979e-07]\n",
            " [9.99999166e-01 8.88888394e-07]\n",
            " [9.99997735e-01 2.31247895e-06]\n",
            " [9.99998689e-01 1.35451342e-06]\n",
            " [9.99998450e-01 1.54751501e-06]\n",
            " [9.99998808e-01 1.13717942e-06]\n",
            " [9.99992013e-01 7.93607705e-06]\n",
            " [9.99998927e-01 1.05014669e-06]\n",
            " [9.99998808e-01 1.16308706e-06]\n",
            " [9.99994993e-01 5.01475415e-06]\n",
            " [9.99998927e-01 1.11119289e-06]\n",
            " [9.99999285e-01 7.27913175e-07]\n",
            " [9.99999285e-01 6.73181432e-07]\n",
            " [9.99992967e-01 7.01915633e-06]\n",
            " [9.99993682e-01 6.36444611e-06]\n",
            " [9.99997497e-01 2.52658970e-06]\n",
            " [9.99999404e-01 5.94343476e-07]\n",
            " [9.99992371e-01 7.67270376e-06]\n",
            " [9.99997258e-01 2.79809069e-06]\n",
            " [9.99996066e-01 3.96564337e-06]\n",
            " [9.99999285e-01 7.17664079e-07]\n",
            " [9.99998212e-01 1.81251244e-06]\n",
            " [9.99997020e-01 3.03700836e-06]\n",
            " [9.99998331e-01 1.69538407e-06]\n",
            " [9.99999523e-01 5.00300359e-07]\n",
            " [9.99999046e-01 9.44713577e-07]\n",
            " [9.99991179e-01 8.78069477e-06]\n",
            " [9.99998093e-01 1.88156821e-06]\n",
            " [9.99997854e-01 2.13517433e-06]\n",
            " [9.99999642e-01 2.98833640e-07]\n",
            " [9.99998689e-01 1.30319700e-06]\n",
            " [9.99999404e-01 5.76846844e-07]\n",
            " [9.99997616e-01 2.40617806e-06]\n",
            " [9.99999404e-01 5.54755616e-07]\n",
            " [9.99999404e-01 6.49949698e-07]\n",
            " [9.99999046e-01 9.88794454e-07]\n",
            " [9.99998927e-01 1.09666564e-06]\n",
            " [9.99990463e-01 9.54249663e-06]\n",
            " [9.99993920e-01 6.09386734e-06]\n",
            " [9.99995589e-01 4.43303452e-06]\n",
            " [9.99997735e-01 2.27821715e-06]\n",
            " [9.99998808e-01 1.14926820e-06]\n",
            " [9.99999166e-01 8.86410589e-07]\n",
            " [9.99999166e-01 7.89512455e-07]\n",
            " [9.99990106e-01 9.86493615e-06]\n",
            " [9.99998927e-01 1.12608427e-06]\n",
            " [9.99996066e-01 3.89525030e-06]\n",
            " [9.99991298e-01 8.64670619e-06]\n",
            " [9.99998808e-01 1.23123402e-06]\n",
            " [9.99999523e-01 5.21946049e-07]\n",
            " [9.99997139e-01 2.83179952e-06]\n",
            " [9.99995470e-01 4.49364688e-06]\n",
            " [9.99998927e-01 1.10514577e-06]\n",
            " [9.99997497e-01 2.50065000e-06]\n",
            " [9.99999046e-01 9.35741525e-07]\n",
            " [9.99995708e-01 4.34429194e-06]\n",
            " [9.99999523e-01 5.22691721e-07]\n",
            " [9.99988556e-01 1.14179329e-05]\n",
            " [9.99999166e-01 8.46654984e-07]\n",
            " [9.99995112e-01 4.90018101e-06]\n",
            " [9.99996662e-01 3.37541292e-06]\n",
            " [9.99995470e-01 4.58712930e-06]\n",
            " [9.99992847e-01 7.18962065e-06]\n",
            " [9.99999285e-01 6.62418643e-07]\n",
            " [9.99991417e-01 8.59535521e-06]\n",
            " [9.99993801e-01 6.15488898e-06]\n",
            " [9.99981403e-01 1.85606641e-05]\n",
            " [9.99998689e-01 1.27499493e-06]\n",
            " [9.99997854e-01 2.10055032e-06]\n",
            " [9.99997377e-01 2.59523790e-06]\n",
            " [9.99997139e-01 2.84063344e-06]\n",
            " [9.99998927e-01 1.07661276e-06]\n",
            " [9.99997020e-01 3.01133150e-06]\n",
            " [9.99995947e-01 4.06958179e-06]\n",
            " [9.99997735e-01 2.27285909e-06]\n",
            " [9.99999404e-01 5.65865605e-07]\n",
            " [9.99998927e-01 1.08739891e-06]\n",
            " [9.99995112e-01 4.88581327e-06]\n",
            " [9.99998569e-01 1.38037421e-06]\n",
            " [9.99996901e-01 3.09235952e-06]\n",
            " [9.99984622e-01 1.54074423e-05]\n",
            " [9.99997020e-01 2.92662094e-06]\n",
            " [9.99983668e-01 1.62790748e-05]\n",
            " [9.99940276e-01 5.96751088e-05]\n",
            " [9.99998450e-01 1.51839686e-06]\n",
            " [9.99999642e-01 3.83611223e-07]\n",
            " [9.99997616e-01 2.40159079e-06]\n",
            " [9.99993563e-01 6.44042575e-06]]\n",
            "1.0\n",
            "468\n",
            "468\n"
          ],
          "name": "stdout"
        }
      ]
    },
    {
      "metadata": {
        "id": "kXMZEYcl4VaB",
        "colab_type": "code",
        "colab": {
          "base_uri": "https://localhost:8080/",
          "height": 34
        },
        "outputId": "e7d0c1ff-f92d-48f5-d045-3638c3a97fe7"
      },
      "cell_type": "code",
      "source": [
        "from sklearn.metrics import precision_recall_fscore_support\n",
        "score=precision_recall_fscore_support((label[0:468,0]), pred[0:468,0].round(), average='macro')\n",
        "#precision_recall_fscore_support((label[858:1715,1]), pred[858:1715,1].round(), average='macro')\n",
        "#print(label[858:1715,1])\n",
        "#print( pred[858:1715,1])\n",
        "#print( pred[0:858,0])\n",
        "print (score)"
      ],
      "execution_count": 122,
      "outputs": [
        {
          "output_type": "stream",
          "text": [
            "(1.0, 1.0, 1.0, None)\n"
          ],
          "name": "stdout"
        }
      ]
    },
    {
      "metadata": {
        "id": "jMoPHtvJ4fdv",
        "colab_type": "code",
        "colab": {}
      },
      "cell_type": "code",
      "source": [
        ""
      ],
      "execution_count": 0,
      "outputs": []
    }
  ]
}